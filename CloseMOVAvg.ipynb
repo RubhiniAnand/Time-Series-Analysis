{
 "cells": [
  {
   "cell_type": "code",
   "execution_count": 1,
   "id": "fa0a792d-8db4-4ce0-ad47-fcafd5d7df93",
   "metadata": {},
   "outputs": [],
   "source": [
    "import pandas as pd"
   ]
  },
  {
   "cell_type": "code",
   "execution_count": 2,
   "id": "3ef9f0e6-1acf-489d-be28-d77c83bfcadf",
   "metadata": {},
   "outputs": [
    {
     "name": "stderr",
     "output_type": "stream",
     "text": [
      "[*********************100%%**********************]  1 of 1 completed"
     ]
    },
    {
     "name": "stdout",
     "output_type": "stream",
     "text": [
      "                   Open         High          Low        Close    Adj Close  \\\n",
      "Date                                                                          \n",
      "2022-06-01  2431.458008  2450.748779  2414.751709  2430.719727  2414.286377   \n",
      "2022-06-02  2431.181152  2522.050537  2431.181152  2514.528076  2497.528076   \n",
      "2022-06-03  2532.711182  2600.413086  2530.864990  2565.477539  2548.133057   \n",
      "2022-06-06  2565.939209  2597.321045  2539.910400  2554.447754  2537.177979   \n",
      "2022-06-07  2556.616699  2576.184326  2540.141357  2559.247314  2541.945068   \n",
      "...                 ...          ...          ...          ...          ...   \n",
      "2023-01-20  2284.424316  2284.424316  2249.581055  2254.565186  2246.629150   \n",
      "2023-01-23  2260.426270  2276.301758  2238.274170  2243.166016  2235.270020   \n",
      "2023-01-24  2252.119141  2255.488037  2203.523193  2229.921143  2222.071777   \n",
      "2023-01-25  2226.690674  2228.767334  2196.739258  2199.092773  2191.352051   \n",
      "2023-01-27  2200.800537  2203.523193  2133.652100  2157.373291  2149.779297   \n",
      "\n",
      "              Volume  \n",
      "Date                  \n",
      "2022-06-01   4888494  \n",
      "2022-06-02  11063284  \n",
      "2022-06-03  11969895  \n",
      "2022-06-06   5546576  \n",
      "2022-06-07   6179127  \n",
      "...              ...  \n",
      "2023-01-20   7465143  \n",
      "2023-01-23   5477059  \n",
      "2023-01-24   8244377  \n",
      "2023-01-25   6192509  \n",
      "2023-01-27  12915487  \n",
      "\n",
      "[166 rows x 6 columns]\n"
     ]
    },
    {
     "name": "stderr",
     "output_type": "stream",
     "text": [
      "\n"
     ]
    }
   ],
   "source": [
    "import yfinance as yf\n",
    "import datetime as dt\n",
    "# Define the ticker and date range\n",
    "#The ticker symbol is used by traders and investors to identify and trade the stock in the market.\n",
    "#In the Yahoo Finance API (yfinance), you use the ticker symbol to specify which stock's data you want to download.\n",
    "ticker = \"RELIANCE.NS\"\n",
    "start_date =dt.datetime(2022,6,1)\n",
    "end_date =dt.datetime(2023,1,28)\n",
    "# Download historical stock data\n",
    "data = yf.download(ticker, start=start_date, end=end_date)\n",
    "# Display the data\n",
    "print(data)"
   ]
  },
  {
   "cell_type": "code",
   "execution_count": 3,
   "id": "69b75c79-c315-4425-bd7f-90b4a3c01a4b",
   "metadata": {},
   "outputs": [],
   "source": [
    "stk_data=data[[\"Open\",\"High\",\"Low\",\"Close\"]]"
   ]
  },
  {
   "cell_type": "code",
   "execution_count": 4,
   "id": "ba8d5a1b-3ae8-49c2-bdde-8536f4ec84be",
   "metadata": {},
   "outputs": [
    {
     "data": {
      "text/html": [
       "<div>\n",
       "<style scoped>\n",
       "    .dataframe tbody tr th:only-of-type {\n",
       "        vertical-align: middle;\n",
       "    }\n",
       "\n",
       "    .dataframe tbody tr th {\n",
       "        vertical-align: top;\n",
       "    }\n",
       "\n",
       "    .dataframe thead th {\n",
       "        text-align: right;\n",
       "    }\n",
       "</style>\n",
       "<table border=\"1\" class=\"dataframe\">\n",
       "  <thead>\n",
       "    <tr style=\"text-align: right;\">\n",
       "      <th></th>\n",
       "      <th>Open</th>\n",
       "      <th>High</th>\n",
       "      <th>Low</th>\n",
       "      <th>Close</th>\n",
       "    </tr>\n",
       "    <tr>\n",
       "      <th>Date</th>\n",
       "      <th></th>\n",
       "      <th></th>\n",
       "      <th></th>\n",
       "      <th></th>\n",
       "    </tr>\n",
       "  </thead>\n",
       "  <tbody>\n",
       "    <tr>\n",
       "      <th>2022-06-01</th>\n",
       "      <td>2431.458008</td>\n",
       "      <td>2450.748779</td>\n",
       "      <td>2414.751709</td>\n",
       "      <td>2430.719727</td>\n",
       "    </tr>\n",
       "    <tr>\n",
       "      <th>2022-06-02</th>\n",
       "      <td>2431.181152</td>\n",
       "      <td>2522.050537</td>\n",
       "      <td>2431.181152</td>\n",
       "      <td>2514.528076</td>\n",
       "    </tr>\n",
       "    <tr>\n",
       "      <th>2022-06-03</th>\n",
       "      <td>2532.711182</td>\n",
       "      <td>2600.413086</td>\n",
       "      <td>2530.864990</td>\n",
       "      <td>2565.477539</td>\n",
       "    </tr>\n",
       "    <tr>\n",
       "      <th>2022-06-06</th>\n",
       "      <td>2565.939209</td>\n",
       "      <td>2597.321045</td>\n",
       "      <td>2539.910400</td>\n",
       "      <td>2554.447754</td>\n",
       "    </tr>\n",
       "    <tr>\n",
       "      <th>2022-06-07</th>\n",
       "      <td>2556.616699</td>\n",
       "      <td>2576.184326</td>\n",
       "      <td>2540.141357</td>\n",
       "      <td>2559.247314</td>\n",
       "    </tr>\n",
       "    <tr>\n",
       "      <th>...</th>\n",
       "      <td>...</td>\n",
       "      <td>...</td>\n",
       "      <td>...</td>\n",
       "      <td>...</td>\n",
       "    </tr>\n",
       "    <tr>\n",
       "      <th>2023-01-20</th>\n",
       "      <td>2284.424316</td>\n",
       "      <td>2284.424316</td>\n",
       "      <td>2249.581055</td>\n",
       "      <td>2254.565186</td>\n",
       "    </tr>\n",
       "    <tr>\n",
       "      <th>2023-01-23</th>\n",
       "      <td>2260.426270</td>\n",
       "      <td>2276.301758</td>\n",
       "      <td>2238.274170</td>\n",
       "      <td>2243.166016</td>\n",
       "    </tr>\n",
       "    <tr>\n",
       "      <th>2023-01-24</th>\n",
       "      <td>2252.119141</td>\n",
       "      <td>2255.488037</td>\n",
       "      <td>2203.523193</td>\n",
       "      <td>2229.921143</td>\n",
       "    </tr>\n",
       "    <tr>\n",
       "      <th>2023-01-25</th>\n",
       "      <td>2226.690674</td>\n",
       "      <td>2228.767334</td>\n",
       "      <td>2196.739258</td>\n",
       "      <td>2199.092773</td>\n",
       "    </tr>\n",
       "    <tr>\n",
       "      <th>2023-01-27</th>\n",
       "      <td>2200.800537</td>\n",
       "      <td>2203.523193</td>\n",
       "      <td>2133.652100</td>\n",
       "      <td>2157.373291</td>\n",
       "    </tr>\n",
       "  </tbody>\n",
       "</table>\n",
       "<p>166 rows × 4 columns</p>\n",
       "</div>"
      ],
      "text/plain": [
       "                   Open         High          Low        Close\n",
       "Date                                                          \n",
       "2022-06-01  2431.458008  2450.748779  2414.751709  2430.719727\n",
       "2022-06-02  2431.181152  2522.050537  2431.181152  2514.528076\n",
       "2022-06-03  2532.711182  2600.413086  2530.864990  2565.477539\n",
       "2022-06-06  2565.939209  2597.321045  2539.910400  2554.447754\n",
       "2022-06-07  2556.616699  2576.184326  2540.141357  2559.247314\n",
       "...                 ...          ...          ...          ...\n",
       "2023-01-20  2284.424316  2284.424316  2249.581055  2254.565186\n",
       "2023-01-23  2260.426270  2276.301758  2238.274170  2243.166016\n",
       "2023-01-24  2252.119141  2255.488037  2203.523193  2229.921143\n",
       "2023-01-25  2226.690674  2228.767334  2196.739258  2199.092773\n",
       "2023-01-27  2200.800537  2203.523193  2133.652100  2157.373291\n",
       "\n",
       "[166 rows x 4 columns]"
      ]
     },
     "execution_count": 4,
     "metadata": {},
     "output_type": "execute_result"
    }
   ],
   "source": [
    "stk_data"
   ]
  },
  {
   "cell_type": "code",
   "execution_count": 5,
   "id": "47df3371-6787-48cd-8a93-8c31a06a2fea",
   "metadata": {},
   "outputs": [],
   "source": [
    "column=\"Close\""
   ]
  },
  {
   "cell_type": "code",
   "execution_count": 6,
   "id": "e7699e41-dac9-4de6-b4c6-ebd2ff282a4d",
   "metadata": {},
   "outputs": [
    {
     "name": "stdout",
     "output_type": "stream",
     "text": [
      "Len: (166, 1)\n"
     ]
    }
   ],
   "source": [
    "from sklearn.preprocessing import MinMaxScaler\n",
    "Ms=MinMaxScaler()\n",
    "data1=Ms.fit_transform(stk_data[[column]])\n",
    "print(\"Len:\",data1.shape)"
   ]
  },
  {
   "cell_type": "code",
   "execution_count": 7,
   "id": "37c773b6-adcd-4f97-831d-dd91d6909397",
   "metadata": {},
   "outputs": [
    {
     "name": "stdout",
     "output_type": "stream",
     "text": [
      "141\n",
      "X_train Length: (141, 1)\n",
      "X_test Length: (25, 1)\n",
      "y_train Length: (141, 1)\n",
      "y Length: (25, 1)\n"
     ]
    }
   ],
   "source": [
    "training_size=round(len(data1) * 0.85)\n",
    "print(training_size)\n",
    "X_train=data1[:training_size]\n",
    "X_test=data1[training_size:]\n",
    "print(\"X_train Length:\",X_train.shape)\n",
    "print(\"X_test Length:\",X_test.shape)\n",
    "y_train=data1[:training_size]\n",
    "y_test=data1[training_size:]\n",
    "print(\"y_train Length:\",y_train.shape)\n",
    "print(\"y Length:\",y_test.shape)"
   ]
  },
  {
   "cell_type": "code",
   "execution_count": 8,
   "id": "3df5ae52-eece-47c5-a8f7-743568a507c3",
   "metadata": {},
   "outputs": [
    {
     "name": "stderr",
     "output_type": "stream",
     "text": [
      "C:\\Users\\Admin\\anaconda3\\envs\\timeseries\\Lib\\site-packages\\statsmodels\\tsa\\statespace\\sarimax.py:978: UserWarning: Non-invertible starting MA parameters found. Using zeros as starting parameters.\n",
      "  warn('Non-invertible starting MA parameters found.'\n"
     ]
    },
    {
     "name": "stdout",
     "output_type": "stream",
     "text": [
      "Trend=n\n",
      "RMSE-Testset: 0.36998807742348383\n",
      "maPe-Testset: 0.947539894518416\n",
      "************\n",
      "Trend=t\n",
      "RMSE-Testset: 0.44391411812293347\n",
      "maPe-Testset: 2.604974980438266\n",
      "************\n",
      "Trend=c\n",
      "RMSE-Testset: 0.17186386973890144\n",
      "maPe-Testset: 1.150556355439\n",
      "************\n",
      "Trend=ct\n",
      "RMSE-Testset: 0.19417475798700276\n",
      "maPe-Testset: 1.2807045867676983\n",
      "************\n"
     ]
    }
   ],
   "source": [
    "from sklearn.metrics import mean_squared_error\n",
    "trends=['n','t','c','ct']\n",
    "orders=[(0,0,1),(0,0,2)]\n",
    "from statsmodels.tsa.arima.model import ARIMA\n",
    "for td in trends:\n",
    "        #print(td)\n",
    "        #trendslist.append(td)\n",
    "    #Order = ( \n",
    "    model = ARIMA(X_train,order=(0,0,2),trend=td,)\n",
    "    model_fit = model.fit()\n",
    "        # make prediction\n",
    "    y_pred= model_fit.predict(len(X_train), len(data1)-1)\n",
    "        #print(y_pred)\n",
    "    #from sklearn.metrics import r2_score\n",
    "    mse=mean_squared_error(y_test,y_pred,squared=False)\n",
    "    from stockFunctions import rmsemape\n",
    "    print(\"Trend={}\".format(td))\n",
    "    rmsemape(y_test,y_pred)\n",
    "    print(\"************\")"
   ]
  },
  {
   "cell_type": "code",
   "execution_count": 16,
   "id": "a619b3bf-759d-4939-8107-0dcca67f7096",
   "metadata": {},
   "outputs": [
    {
     "name": "stderr",
     "output_type": "stream",
     "text": [
      "C:\\Users\\Admin\\anaconda3\\envs\\timeseries\\Lib\\site-packages\\statsmodels\\tsa\\statespace\\sarimax.py:978: UserWarning: Non-invertible starting MA parameters found. Using zeros as starting parameters.\n",
      "  warn('Non-invertible starting MA parameters found.'\n",
      "C:\\Users\\Admin\\anaconda3\\envs\\timeseries\\Lib\\site-packages\\statsmodels\\base\\model.py:604: ConvergenceWarning: Maximum Likelihood optimization failed to converge. Check mle_retvals\n",
      "  warnings.warn(\"Maximum Likelihood optimization failed to \"\n"
     ]
    },
    {
     "name": "stdout",
     "output_type": "stream",
     "text": [
      "Trend=n\n",
      "RMSE-Testset: 0.23601130683696617\n",
      "maPe-Testset: 0.6701991476188285\n",
      "************\n"
     ]
    }
   ],
   "source": [
    "td='n'\n",
    "model = ARIMA(X_train, order=(0,0,20),trend=td,)\n",
    "model_fit = model.fit()\n",
    "# make prediction\n",
    "y_pred= model_fit.predict(len(X_train), len(data1)-1)\n",
    "#print(y_pred)\n",
    "#from sklearn.metrics import r2_score\n",
    "mse=mean_squared_error(y_test,y_pred,squared=False)\n",
    "from stockFunctions import rmsemape\n",
    "print(\"Trend={}\".format(td))\n",
    "rmsemape(y_test,y_pred)\n",
    "print(\"************\")"
   ]
  },
  {
   "cell_type": "code",
   "execution_count": 17,
   "id": "9c3a2dac-a7eb-4a3b-a170-69471d26087c",
   "metadata": {},
   "outputs": [
    {
     "data": {
      "image/png": "[encoded data removed]",
      "text/plain": [
       "<Figure size 1000x500 with 1 Axes>"
      ]
     },
     "metadata": {},
     "output_type": "display_data"
    }
   ],
   "source": [
    "from stockFunctions import graph\n",
    "graph(y_test,y_pred,\"Actual\",\"Predicted\",\"Reliance-Close-MA-Norm\",\"Days\",\"Prices\")"
   ]
  },
  {
   "cell_type": "code",
   "execution_count": 18,
   "id": "89e060e5-12f9-4634-8c91-7be19fe11df4",
   "metadata": {},
   "outputs": [],
   "source": [
    "from stockFunctions import conversionSingle\n",
    "aTestNormTable=conversionSingle(y_test,[column])\n",
    "actual_stock_price_test_ori=Ms.inverse_transform(aTestNormTable)\n",
    "actual_stock_price_test_oriA=conversionSingle(actual_stock_price_test_ori,[column])"
   ]
  },
  {
   "cell_type": "code",
   "execution_count": 19,
   "id": "2f427dd5-d47d-40f9-b910-658462179e0d",
   "metadata": {},
   "outputs": [],
   "source": [
    "from stockFunctions import conversionSingle\n",
    "pTestNormTable=conversionSingle(y_pred,[column])\n",
    "predicted_stock_price_test_ori=Ms.inverse_transform(pTestNormTable)\n",
    "predicted_stock_price_test_oriP=conversionSingle(predicted_stock_price_test_ori,[column])"
   ]
  },
  {
   "cell_type": "code",
   "execution_count": 20,
   "id": "8b3bb3f8-d9a2-4861-83fe-a4010485aa26",
   "metadata": {},
   "outputs": [
    {
     "data": {
      "image/png": "[encoded data removed]",
      "text/plain": [
       "<Figure size 1000x500 with 1 Axes>"
      ]
     },
     "metadata": {},
     "output_type": "display_data"
    }
   ],
   "source": [
    "from stockFunctions import graph\n",
    "graph(actual_stock_price_test_oriA,predicted_stock_price_test_oriP,\"Actual\",\"Predicted\",\"Reliance-Close-AR-Ori\",\"Days\",\"Prices\")"
   ]
  },
  {
   "cell_type": "code",
   "execution_count": 21,
   "id": "fca67987-48cb-4d2e-a65d-67289d41acda",
   "metadata": {},
   "outputs": [],
   "source": [
    "forecast=model_fit.predict(len(data1), len(data1)+3)"
   ]
  },
  {
   "cell_type": "code",
   "execution_count": 22,
   "id": "9dc025fa-dff2-4c07-9a54-7a027558ed3b",
   "metadata": {},
   "outputs": [
    {
     "data": {
      "text/plain": [
       "array([0., 0., 0., 0.])"
      ]
     },
     "execution_count": 22,
     "metadata": {},
     "output_type": "execute_result"
    }
   ],
   "source": [
    "forecast"
   ]
  },
  {
   "cell_type": "code",
   "execution_count": 23,
   "id": "298f9484-12d7-45b4-89c4-764412f77c07",
   "metadata": {},
   "outputs": [],
   "source": [
    "from stockFunctions import conversionSingle\n",
    "fTestNormTable=conversionSingle(forecast,[\"Closefore\"])\n",
    "forecast_stock_price_test_ori=Ms.inverse_transform(fTestNormTable)\n",
    "forecast_stock_price_test_oriF=conversionSingle(forecast_stock_price_test_ori,[\"Closefore\"])"
   ]
  },
  {
   "cell_type": "code",
   "execution_count": 24,
   "id": "874798bf-05b8-4df6-a09a-70d5331bb785",
   "metadata": {},
   "outputs": [
    {
     "data": {
      "text/html": [
       "<div>\n",
       "<style scoped>\n",
       "    .dataframe tbody tr th:only-of-type {\n",
       "        vertical-align: middle;\n",
       "    }\n",
       "\n",
       "    .dataframe tbody tr th {\n",
       "        vertical-align: top;\n",
       "    }\n",
       "\n",
       "    .dataframe thead th {\n",
       "        text-align: right;\n",
       "    }\n",
       "</style>\n",
       "<table border=\"1\" class=\"dataframe\">\n",
       "  <thead>\n",
       "    <tr style=\"text-align: right;\">\n",
       "      <th></th>\n",
       "      <th>Closefore</th>\n",
       "    </tr>\n",
       "  </thead>\n",
       "  <tbody>\n",
       "    <tr>\n",
       "      <th>0</th>\n",
       "      <td>2146.251221</td>\n",
       "    </tr>\n",
       "    <tr>\n",
       "      <th>1</th>\n",
       "      <td>2146.251221</td>\n",
       "    </tr>\n",
       "    <tr>\n",
       "      <th>2</th>\n",
       "      <td>2146.251221</td>\n",
       "    </tr>\n",
       "    <tr>\n",
       "      <th>3</th>\n",
       "      <td>2146.251221</td>\n",
       "    </tr>\n",
       "  </tbody>\n",
       "</table>\n",
       "</div>"
      ],
      "text/plain": [
       "     Closefore\n",
       "0  2146.251221\n",
       "1  2146.251221\n",
       "2  2146.251221\n",
       "3  2146.251221"
      ]
     },
     "execution_count": 24,
     "metadata": {},
     "output_type": "execute_result"
    }
   ],
   "source": [
    "forecast_stock_price_test_oriF"
   ]
  },
  {
   "cell_type": "code",
   "execution_count": null,
   "id": "1333a857-81eb-4404-8b7d-79ccc27f7659",
   "metadata": {},
   "outputs": [],
   "source": []
  }
 ],
 "metadata": {
  "kernelspec": {
   "display_name": "Python 3 (ipykernel)",
   "language": "python",
   "name": "python3"
  },
  "language_info": {
   "codemirror_mode": {
    "name": "ipython",
    "version": 3
   },
   "file_extension": ".py",
   "mimetype": "text/x-python",
   "name": "python",
   "nbconvert_exporter": "python",
   "pygments_lexer": "ipython3",
   "version": "3.11.9"
  }
 },
 "nbformat": 4,
 "nbformat_minor": 5
}
