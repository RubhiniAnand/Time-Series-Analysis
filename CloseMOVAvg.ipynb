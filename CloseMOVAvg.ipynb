{
 "cells": [
  {
   "cell_type": "code",
   "execution_count": 1,
   "id": "fa0a792d-8db4-4ce0-ad47-fcafd5d7df93",
   "metadata": {},
   "outputs": [],
   "source": [
    "import pandas as pd"
   ]
  },
  {
   "cell_type": "code",
   "execution_count": 2,
   "id": "3ef9f0e6-1acf-489d-be28-d77c83bfcadf",
   "metadata": {},
   "outputs": [
    {
     "name": "stderr",
     "output_type": "stream",
     "text": [
      "[*********************100%%**********************]  1 of 1 completed"
     ]
    },
    {
     "name": "stdout",
     "output_type": "stream",
     "text": [
      "                   Open         High          Low        Close    Adj Close  \\\n",
      "Date                                                                          \n",
      "2022-06-01  2431.458008  2450.748779  2414.751709  2430.719727  2414.286377   \n",
      "2022-06-02  2431.181152  2522.050537  2431.181152  2514.528076  2497.528076   \n",
      "2022-06-03  2532.711182  2600.413086  2530.864990  2565.477539  2548.133057   \n",
      "2022-06-06  2565.939209  2597.321045  2539.910400  2554.447754  2537.177734   \n",
      "2022-06-07  2556.616699  2576.184326  2540.141357  2559.247314  2541.945068   \n",
      "...                 ...          ...          ...          ...          ...   \n",
      "2023-01-20  2284.424316  2284.424316  2249.581055  2254.565186  2246.629150   \n",
      "2023-01-23  2260.426270  2276.301758  2238.274170  2243.166016  2235.270020   \n",
      "2023-01-24  2252.119141  2255.488037  2203.523193  2229.921143  2222.071777   \n",
      "2023-01-25  2226.690674  2228.767334  2196.739258  2199.092773  2191.352051   \n",
      "2023-01-27  2200.800537  2203.523193  2133.652100  2157.373291  2149.779297   \n",
      "\n",
      "              Volume  \n",
      "Date                  \n",
      "2022-06-01   4888494  \n",
      "2022-06-02  11063284  \n",
      "2022-06-03  11969895  \n",
      "2022-06-06   5546576  \n",
      "2022-06-07   6179127  \n",
      "...              ...  \n",
      "2023-01-20   7465143  \n",
      "2023-01-23   5477059  \n",
      "2023-01-24   8244377  \n",
      "2023-01-25   6192509  \n",
      "2023-01-27  12915487  \n",
      "\n",
      "[166 rows x 6 columns]\n"
     ]
    },
    {
     "name": "stderr",
     "output_type": "stream",
     "text": [
      "\n"
     ]
    }
   ],
   "source": [
    "import yfinance as yf\n",
    "import datetime as dt\n",
    "# Define the ticker and date range\n",
    "#The ticker symbol is used by traders and investors to identify and trade the stock in the market.\n",
    "#In the Yahoo Finance API (yfinance), you use the ticker symbol to specify which stock's data you want to download.\n",
    "ticker = \"RELIANCE.NS\"\n",
    "start_date =dt.datetime(2022,6,1)\n",
    "end_date =dt.datetime(2023,1,28)\n",
    "# Download historical stock data\n",
    "data = yf.download(ticker, start=start_date, end=end_date)\n",
    "# Display the data\n",
    "print(data)"
   ]
  },
  {
   "cell_type": "code",
   "execution_count": 3,
   "id": "69b75c79-c315-4425-bd7f-90b4a3c01a4b",
   "metadata": {},
   "outputs": [],
   "source": [
    "stk_data=data[[\"Open\",\"High\",\"Low\",\"Close\"]]"
   ]
  },
  {
   "cell_type": "code",
   "execution_count": 4,
   "id": "ba8d5a1b-3ae8-49c2-bdde-8536f4ec84be",
   "metadata": {},
   "outputs": [
    {
     "data": {
      "text/html": [
       "<div>\n",
       "<style scoped>\n",
       "    .dataframe tbody tr th:only-of-type {\n",
       "        vertical-align: middle;\n",
       "    }\n",
       "\n",
       "    .dataframe tbody tr th {\n",
       "        vertical-align: top;\n",
       "    }\n",
       "\n",
       "    .dataframe thead th {\n",
       "        text-align: right;\n",
       "    }\n",
       "</style>\n",
       "<table border=\"1\" class=\"dataframe\">\n",
       "  <thead>\n",
       "    <tr style=\"text-align: right;\">\n",
       "      <th></th>\n",
       "      <th>Open</th>\n",
       "      <th>High</th>\n",
       "      <th>Low</th>\n",
       "      <th>Close</th>\n",
       "    </tr>\n",
       "    <tr>\n",
       "      <th>Date</th>\n",
       "      <th></th>\n",
       "      <th></th>\n",
       "      <th></th>\n",
       "      <th></th>\n",
       "    </tr>\n",
       "  </thead>\n",
       "  <tbody>\n",
       "    <tr>\n",
       "      <th>2022-06-01</th>\n",
       "      <td>2431.458008</td>\n",
       "      <td>2450.748779</td>\n",
       "      <td>2414.751709</td>\n",
       "      <td>2430.719727</td>\n",
       "    </tr>\n",
       "    <tr>\n",
       "      <th>2022-06-02</th>\n",
       "      <td>2431.181152</td>\n",
       "      <td>2522.050537</td>\n",
       "      <td>2431.181152</td>\n",
       "      <td>2514.528076</td>\n",
       "    </tr>\n",
       "    <tr>\n",
       "      <th>2022-06-03</th>\n",
       "      <td>2532.711182</td>\n",
       "      <td>2600.413086</td>\n",
       "      <td>2530.864990</td>\n",
       "      <td>2565.477539</td>\n",
       "    </tr>\n",
       "    <tr>\n",
       "      <th>2022-06-06</th>\n",
       "      <td>2565.939209</td>\n",
       "      <td>2597.321045</td>\n",
       "      <td>2539.910400</td>\n",
       "      <td>2554.447754</td>\n",
       "    </tr>\n",
       "    <tr>\n",
       "      <th>2022-06-07</th>\n",
       "      <td>2556.616699</td>\n",
       "      <td>2576.184326</td>\n",
       "      <td>2540.141357</td>\n",
       "      <td>2559.247314</td>\n",
       "    </tr>\n",
       "    <tr>\n",
       "      <th>...</th>\n",
       "      <td>...</td>\n",
       "      <td>...</td>\n",
       "      <td>...</td>\n",
       "      <td>...</td>\n",
       "    </tr>\n",
       "    <tr>\n",
       "      <th>2023-01-20</th>\n",
       "      <td>2284.424316</td>\n",
       "      <td>2284.424316</td>\n",
       "      <td>2249.581055</td>\n",
       "      <td>2254.565186</td>\n",
       "    </tr>\n",
       "    <tr>\n",
       "      <th>2023-01-23</th>\n",
       "      <td>2260.426270</td>\n",
       "      <td>2276.301758</td>\n",
       "      <td>2238.274170</td>\n",
       "      <td>2243.166016</td>\n",
       "    </tr>\n",
       "    <tr>\n",
       "      <th>2023-01-24</th>\n",
       "      <td>2252.119141</td>\n",
       "      <td>2255.488037</td>\n",
       "      <td>2203.523193</td>\n",
       "      <td>2229.921143</td>\n",
       "    </tr>\n",
       "    <tr>\n",
       "      <th>2023-01-25</th>\n",
       "      <td>2226.690674</td>\n",
       "      <td>2228.767334</td>\n",
       "      <td>2196.739258</td>\n",
       "      <td>2199.092773</td>\n",
       "    </tr>\n",
       "    <tr>\n",
       "      <th>2023-01-27</th>\n",
       "      <td>2200.800537</td>\n",
       "      <td>2203.523193</td>\n",
       "      <td>2133.652100</td>\n",
       "      <td>2157.373291</td>\n",
       "    </tr>\n",
       "  </tbody>\n",
       "</table>\n",
       "<p>166 rows × 4 columns</p>\n",
       "</div>"
      ],
      "text/plain": [
       "                   Open         High          Low        Close\n",
       "Date                                                          \n",
       "2022-06-01  2431.458008  2450.748779  2414.751709  2430.719727\n",
       "2022-06-02  2431.181152  2522.050537  2431.181152  2514.528076\n",
       "2022-06-03  2532.711182  2600.413086  2530.864990  2565.477539\n",
       "2022-06-06  2565.939209  2597.321045  2539.910400  2554.447754\n",
       "2022-06-07  2556.616699  2576.184326  2540.141357  2559.247314\n",
       "...                 ...          ...          ...          ...\n",
       "2023-01-20  2284.424316  2284.424316  2249.581055  2254.565186\n",
       "2023-01-23  2260.426270  2276.301758  2238.274170  2243.166016\n",
       "2023-01-24  2252.119141  2255.488037  2203.523193  2229.921143\n",
       "2023-01-25  2226.690674  2228.767334  2196.739258  2199.092773\n",
       "2023-01-27  2200.800537  2203.523193  2133.652100  2157.373291\n",
       "\n",
       "[166 rows x 4 columns]"
      ]
     },
     "execution_count": 4,
     "metadata": {},
     "output_type": "execute_result"
    }
   ],
   "source": [
    "stk_data"
   ]
  },
  {
   "cell_type": "code",
   "execution_count": 5,
   "id": "47df3371-6787-48cd-8a93-8c31a06a2fea",
   "metadata": {},
   "outputs": [],
   "source": [
    "column=\"Close\""
   ]
  },
  {
   "cell_type": "code",
   "execution_count": 6,
   "id": "e7699e41-dac9-4de6-b4c6-ebd2ff282a4d",
   "metadata": {},
   "outputs": [
    {
     "name": "stdout",
     "output_type": "stream",
     "text": [
      "Len: (166, 1)\n"
     ]
    }
   ],
   "source": [
    "from sklearn.preprocessing import MinMaxScaler\n",
    "Ms=MinMaxScaler()\n",
    "data1=Ms.fit_transform(stk_data[[column]])\n",
    "print(\"Len:\",data1.shape)"
   ]
  },
  {
   "cell_type": "code",
   "execution_count": 7,
   "id": "37c773b6-adcd-4f97-831d-dd91d6909397",
   "metadata": {},
   "outputs": [
    {
     "name": "stdout",
     "output_type": "stream",
     "text": [
      "141\n",
      "X_train Length: (141, 1)\n",
      "X_test Length: (25, 1)\n",
      "y_train Length: (141, 1)\n",
      "y Length: (25, 1)\n"
     ]
    }
   ],
   "source": [
    "training_size=round(len(data1) * 0.85)\n",
    "print(training_size)\n",
    "X_train=data1[:training_size]\n",
    "X_test=data1[training_size:]\n",
    "print(\"X_train Length:\",X_train.shape)\n",
    "print(\"X_test Length:\",X_test.shape)\n",
    "y_train=data1[:training_size]\n",
    "y_test=data1[training_size:]\n",
    "print(\"y_train Length:\",y_train.shape)\n",
    "print(\"y Length:\",y_test.shape)"
   ]
  },
  {
   "cell_type": "code",
   "execution_count": 8,
   "id": "3df5ae52-eece-47c5-a8f7-743568a507c3",
   "metadata": {},
   "outputs": [
    {
     "name": "stderr",
     "output_type": "stream",
     "text": [
      "C:\\Users\\Admin\\anaconda3\\envs\\timeseries\\Lib\\site-packages\\statsmodels\\tsa\\statespace\\sarimax.py:978: UserWarning: Non-invertible starting MA parameters found. Using zeros as starting parameters.\n",
      "  warn('Non-invertible starting MA parameters found.'\n"
     ]
    },
    {
     "name": "stdout",
     "output_type": "stream",
     "text": [
      "Trend=n,Orders=(0, 0, 10)\n",
      "RMSE-Testset: 0.33244555880725624\n",
      "maPe-Testset: 0.8588436034544091\n",
      "************\n"
     ]
    },
    {
     "name": "stderr",
     "output_type": "stream",
     "text": [
      "C:\\Users\\Admin\\anaconda3\\envs\\timeseries\\Lib\\site-packages\\statsmodels\\tsa\\statespace\\sarimax.py:978: UserWarning: Non-invertible starting MA parameters found. Using zeros as starting parameters.\n",
      "  warn('Non-invertible starting MA parameters found.'\n"
     ]
    },
    {
     "name": "stdout",
     "output_type": "stream",
     "text": [
      "Trend=n,Orders=(0, 0, 11)\n",
      "RMSE-Testset: 0.3200334450495139\n",
      "maPe-Testset: 0.8377979659507713\n",
      "************\n"
     ]
    },
    {
     "name": "stderr",
     "output_type": "stream",
     "text": [
      "C:\\Users\\Admin\\anaconda3\\envs\\timeseries\\Lib\\site-packages\\statsmodels\\tsa\\statespace\\sarimax.py:978: UserWarning: Non-invertible starting MA parameters found. Using zeros as starting parameters.\n",
      "  warn('Non-invertible starting MA parameters found.'\n",
      "C:\\Users\\Admin\\anaconda3\\envs\\timeseries\\Lib\\site-packages\\statsmodels\\base\\model.py:604: ConvergenceWarning: Maximum Likelihood optimization failed to converge. Check mle_retvals\n",
      "  warnings.warn(\"Maximum Likelihood optimization failed to \"\n",
      "C:\\Users\\Admin\\anaconda3\\envs\\timeseries\\Lib\\site-packages\\statsmodels\\tsa\\statespace\\sarimax.py:978: UserWarning: Non-invertible starting MA parameters found. Using zeros as starting parameters.\n",
      "  warn('Non-invertible starting MA parameters found.'\n"
     ]
    },
    {
     "name": "stdout",
     "output_type": "stream",
     "text": [
      "Trend=t,Orders=(0, 0, 10)\n",
      "RMSE-Testset: 0.4163347755293641\n",
      "maPe-Testset: 2.4752019669380103\n",
      "************\n"
     ]
    },
    {
     "name": "stderr",
     "output_type": "stream",
     "text": [
      "C:\\Users\\Admin\\anaconda3\\envs\\timeseries\\Lib\\site-packages\\statsmodels\\base\\model.py:604: ConvergenceWarning: Maximum Likelihood optimization failed to converge. Check mle_retvals\n",
      "  warnings.warn(\"Maximum Likelihood optimization failed to \"\n"
     ]
    },
    {
     "name": "stdout",
     "output_type": "stream",
     "text": [
      "Trend=t,Orders=(0, 0, 11)\n",
      "RMSE-Testset: 0.4010258485770771\n",
      "maPe-Testset: 2.4008708081130306\n",
      "************\n"
     ]
    },
    {
     "name": "stderr",
     "output_type": "stream",
     "text": [
      "C:\\Users\\Admin\\anaconda3\\envs\\timeseries\\Lib\\site-packages\\statsmodels\\base\\model.py:604: ConvergenceWarning: Maximum Likelihood optimization failed to converge. Check mle_retvals\n",
      "  warnings.warn(\"Maximum Likelihood optimization failed to \"\n",
      "C:\\Users\\Admin\\anaconda3\\envs\\timeseries\\Lib\\site-packages\\statsmodels\\tsa\\statespace\\sarimax.py:978: UserWarning: Non-invertible starting MA parameters found. Using zeros as starting parameters.\n",
      "  warn('Non-invertible starting MA parameters found.'\n"
     ]
    },
    {
     "name": "stdout",
     "output_type": "stream",
     "text": [
      "Trend=c,Orders=(0, 0, 10)\n",
      "RMSE-Testset: 0.183210668913063\n",
      "maPe-Testset: 1.2134373715710647\n",
      "************\n",
      "Trend=c,Orders=(0, 0, 11)\n",
      "RMSE-Testset: 0.1735425156387546\n",
      "maPe-Testset: 1.1592882103585276\n",
      "************\n"
     ]
    },
    {
     "name": "stderr",
     "output_type": "stream",
     "text": [
      "C:\\Users\\Admin\\anaconda3\\envs\\timeseries\\Lib\\site-packages\\statsmodels\\base\\model.py:604: ConvergenceWarning: Maximum Likelihood optimization failed to converge. Check mle_retvals\n",
      "  warnings.warn(\"Maximum Likelihood optimization failed to \"\n",
      "C:\\Users\\Admin\\anaconda3\\envs\\timeseries\\Lib\\site-packages\\statsmodels\\tsa\\statespace\\sarimax.py:978: UserWarning: Non-invertible starting MA parameters found. Using zeros as starting parameters.\n",
      "  warn('Non-invertible starting MA parameters found.'\n"
     ]
    },
    {
     "name": "stdout",
     "output_type": "stream",
     "text": [
      "Trend=ct,Orders=(0, 0, 10)\n",
      "RMSE-Testset: 0.19137468839682475\n",
      "maPe-Testset: 1.2626356554337363\n",
      "************\n",
      "Trend=ct,Orders=(0, 0, 11)\n",
      "RMSE-Testset: 0.18783571954535894\n",
      "maPe-Testset: 1.2422942831727402\n",
      "************\n"
     ]
    },
    {
     "name": "stderr",
     "output_type": "stream",
     "text": [
      "C:\\Users\\Admin\\anaconda3\\envs\\timeseries\\Lib\\site-packages\\statsmodels\\base\\model.py:604: ConvergenceWarning: Maximum Likelihood optimization failed to converge. Check mle_retvals\n",
      "  warnings.warn(\"Maximum Likelihood optimization failed to \"\n"
     ]
    }
   ],
   "source": [
    "from sklearn.metrics import mean_squared_error\n",
    "trends=['n','t','c','ct']\n",
    "orders=[(0,0,10),(0,0,11)]\n",
    "from statsmodels.tsa.arima.model import ARIMA\n",
    "for td in trends:\n",
    "     for o in orders:   \n",
    "         #print(td)\n",
    "        #trendslist.append(td)\n",
    "        model = ARIMA(X_train,order=o,trend=td)\n",
    "        model_fit = model.fit()\n",
    "            # make prediction\n",
    "        y_pred= model_fit.predict(len(X_train), len(data1)-1)\n",
    "            #print(y_pred)\n",
    "        #from sklearn.metrics import r2_score\n",
    "        mse=mean_squared_error(y_test,y_pred,squared=False)\n",
    "        from stockFunctions import rmsemape\n",
    "        print(f\"Trend={td},Orders={o}\")\n",
    "        rmsemape(y_test,y_pred)\n",
    "        print(\"************\")"
   ]
  },
  {
   "cell_type": "code",
   "execution_count": 21,
   "id": "a619b3bf-759d-4939-8107-0dcca67f7096",
   "metadata": {},
   "outputs": [
    {
     "name": "stderr",
     "output_type": "stream",
     "text": [
      "C:\\Users\\Admin\\anaconda3\\envs\\timeseries\\Lib\\site-packages\\statsmodels\\tsa\\statespace\\sarimax.py:978: UserWarning: Non-invertible starting MA parameters found. Using zeros as starting parameters.\n",
      "  warn('Non-invertible starting MA parameters found.'\n",
      "C:\\Users\\Admin\\anaconda3\\envs\\timeseries\\Lib\\site-packages\\statsmodels\\base\\model.py:604: ConvergenceWarning: Maximum Likelihood optimization failed to converge. Check mle_retvals\n",
      "  warnings.warn(\"Maximum Likelihood optimization failed to \"\n"
     ]
    },
    {
     "name": "stdout",
     "output_type": "stream",
     "text": [
      "RMSE-Testset: 0.2272205556873661\n",
      "maPe-Testset: 0.6660866979788274\n",
      "************\n"
     ]
    }
   ],
   "source": [
    "best_trend='n'\n",
    "best_order=(0,0,30)\n",
    "model = ARIMA(X_train, order=best_order,trend=best_trend,)\n",
    "model_fit = model.fit()\n",
    "# make prediction\n",
    "y_pred= model_fit.predict(len(X_train), len(data1)-1)\n",
    "#print(y_pred)\n",
    "#from sklearn.metrics import r2_score\n",
    "mse=mean_squared_error(y_test,y_pred,squared=False)\n",
    "from stockFunctions import rmsemape\n",
    "rmsemape(y_test,y_pred)\n",
    "print(\"************\")"
   ]
  },
  {
   "cell_type": "code",
   "execution_count": 23,
   "id": "9c3a2dac-a7eb-4a3b-a170-69471d26087c",
   "metadata": {},
   "outputs": [
    {
     "data": {
      "image/png": "[encoded data removed]",
      "text/plain": [
       "<Figure size 1000x500 with 1 Axes>"
      ]
     },
     "metadata": {},
     "output_type": "display_data"
    }
   ],
   "source": [
    "from stockFunctions import graph\n",
    "graph(y_test,y_pred,\"Actual\",\"Predicted\",\"Reliance-Close-MA-Norm\",\"Days\",\"Prices\")"
   ]
  },
  {
   "cell_type": "code",
   "execution_count": 24,
   "id": "89e060e5-12f9-4634-8c91-7be19fe11df4",
   "metadata": {},
   "outputs": [],
   "source": [
    "from stockFunctions import conversionSingle\n",
    "aTestNormTable=conversionSingle(y_test,[column])\n",
    "actual_stock_price_test_ori=Ms.inverse_transform(aTestNormTable)\n",
    "actual_stock_price_test_oriA=conversionSingle(actual_stock_price_test_ori,[column])"
   ]
  },
  {
   "cell_type": "code",
   "execution_count": 25,
   "id": "2f427dd5-d47d-40f9-b910-658462179e0d",
   "metadata": {},
   "outputs": [],
   "source": [
    "from stockFunctions import conversionSingle\n",
    "pTestNormTable=conversionSingle(y_pred,[column])\n",
    "predicted_stock_price_test_ori=Ms.inverse_transform(pTestNormTable)\n",
    "predicted_stock_price_test_oriP=conversionSingle(predicted_stock_price_test_ori,[column])"
   ]
  },
  {
   "cell_type": "code",
   "execution_count": 26,
   "id": "0519a3f9-4e9c-46f3-8d3f-2870c9111cb6",
   "metadata": {},
   "outputs": [
    {
     "data": {
      "text/html": [
       "<div>\n",
       "<style scoped>\n",
       "    .dataframe tbody tr th:only-of-type {\n",
       "        vertical-align: middle;\n",
       "    }\n",
       "\n",
       "    .dataframe tbody tr th {\n",
       "        vertical-align: top;\n",
       "    }\n",
       "\n",
       "    .dataframe thead th {\n",
       "        text-align: right;\n",
       "    }\n",
       "</style>\n",
       "<table border=\"1\" class=\"dataframe\">\n",
       "  <thead>\n",
       "    <tr style=\"text-align: right;\">\n",
       "      <th></th>\n",
       "      <th>Close</th>\n",
       "    </tr>\n",
       "  </thead>\n",
       "  <tbody>\n",
       "    <tr>\n",
       "      <th>0</th>\n",
       "      <td>2393.255765</td>\n",
       "    </tr>\n",
       "    <tr>\n",
       "      <th>1</th>\n",
       "      <td>2350.710122</td>\n",
       "    </tr>\n",
       "    <tr>\n",
       "      <th>2</th>\n",
       "      <td>2317.386293</td>\n",
       "    </tr>\n",
       "    <tr>\n",
       "      <th>3</th>\n",
       "      <td>2287.636203</td>\n",
       "    </tr>\n",
       "    <tr>\n",
       "      <th>4</th>\n",
       "      <td>2282.449501</td>\n",
       "    </tr>\n",
       "    <tr>\n",
       "      <th>5</th>\n",
       "      <td>2258.845201</td>\n",
       "    </tr>\n",
       "    <tr>\n",
       "      <th>6</th>\n",
       "      <td>2263.132774</td>\n",
       "    </tr>\n",
       "    <tr>\n",
       "      <th>7</th>\n",
       "      <td>2253.528372</td>\n",
       "    </tr>\n",
       "    <tr>\n",
       "      <th>8</th>\n",
       "      <td>2229.040888</td>\n",
       "    </tr>\n",
       "    <tr>\n",
       "      <th>9</th>\n",
       "      <td>2208.900835</td>\n",
       "    </tr>\n",
       "    <tr>\n",
       "      <th>10</th>\n",
       "      <td>2214.96913</td>\n",
       "    </tr>\n",
       "    <tr>\n",
       "      <th>11</th>\n",
       "      <td>2216.440651</td>\n",
       "    </tr>\n",
       "    <tr>\n",
       "      <th>12</th>\n",
       "      <td>2215.032651</td>\n",
       "    </tr>\n",
       "    <tr>\n",
       "      <th>13</th>\n",
       "      <td>2203.089759</td>\n",
       "    </tr>\n",
       "    <tr>\n",
       "      <th>14</th>\n",
       "      <td>2199.136931</td>\n",
       "    </tr>\n",
       "    <tr>\n",
       "      <th>15</th>\n",
       "      <td>2192.898513</td>\n",
       "    </tr>\n",
       "    <tr>\n",
       "      <th>16</th>\n",
       "      <td>2173.994851</td>\n",
       "    </tr>\n",
       "    <tr>\n",
       "      <th>17</th>\n",
       "      <td>2167.914111</td>\n",
       "    </tr>\n",
       "    <tr>\n",
       "      <th>18</th>\n",
       "      <td>2174.792794</td>\n",
       "    </tr>\n",
       "    <tr>\n",
       "      <th>19</th>\n",
       "      <td>2163.187035</td>\n",
       "    </tr>\n",
       "    <tr>\n",
       "      <th>20</th>\n",
       "      <td>2148.546451</td>\n",
       "    </tr>\n",
       "    <tr>\n",
       "      <th>21</th>\n",
       "      <td>2153.086234</td>\n",
       "    </tr>\n",
       "    <tr>\n",
       "      <th>22</th>\n",
       "      <td>2150.235992</td>\n",
       "    </tr>\n",
       "    <tr>\n",
       "      <th>23</th>\n",
       "      <td>2154.867555</td>\n",
       "    </tr>\n",
       "    <tr>\n",
       "      <th>24</th>\n",
       "      <td>2138.783105</td>\n",
       "    </tr>\n",
       "  </tbody>\n",
       "</table>\n",
       "</div>"
      ],
      "text/plain": [
       "          Close\n",
       "0   2393.255765\n",
       "1   2350.710122\n",
       "2   2317.386293\n",
       "3   2287.636203\n",
       "4   2282.449501\n",
       "5   2258.845201\n",
       "6   2263.132774\n",
       "7   2253.528372\n",
       "8   2229.040888\n",
       "9   2208.900835\n",
       "10   2214.96913\n",
       "11  2216.440651\n",
       "12  2215.032651\n",
       "13  2203.089759\n",
       "14  2199.136931\n",
       "15  2192.898513\n",
       "16  2173.994851\n",
       "17  2167.914111\n",
       "18  2174.792794\n",
       "19  2163.187035\n",
       "20  2148.546451\n",
       "21  2153.086234\n",
       "22  2150.235992\n",
       "23  2154.867555\n",
       "24  2138.783105"
      ]
     },
     "execution_count": 26,
     "metadata": {},
     "output_type": "execute_result"
    }
   ],
   "source": [
    "predicted_stock_price_test_oriP"
   ]
  },
  {
   "cell_type": "code",
   "execution_count": 27,
   "id": "8b3bb3f8-d9a2-4861-83fe-a4010485aa26",
   "metadata": {},
   "outputs": [
    {
     "data": {
      "image/png": "[encoded data removed]",
      "text/plain": [
       "<Figure size 1000x500 with 1 Axes>"
      ]
     },
     "metadata": {},
     "output_type": "display_data"
    }
   ],
   "source": [
    "from stockFunctions import graph\n",
    "graph(actual_stock_price_test_oriA,predicted_stock_price_test_oriP,\"Actual\",\"Predicted\",\"Reliance-Close-AR-Ori\",\"Days\",\"Prices\")"
   ]
  },
  {
   "cell_type": "code",
   "execution_count": 28,
   "id": "fca67987-48cb-4d2e-a65d-67289d41acda",
   "metadata": {},
   "outputs": [],
   "source": [
    "forecast=model_fit.predict(len(data1),len(data1)+4)"
   ]
  },
  {
   "cell_type": "code",
   "execution_count": 29,
   "id": "9dc025fa-dff2-4c07-9a54-7a027558ed3b",
   "metadata": {},
   "outputs": [
    {
     "data": {
      "text/plain": [
       "array([-0.01112691,  0.01354715, -0.00036028, -0.0025908 ,  0.00064802])"
      ]
     },
     "execution_count": 29,
     "metadata": {},
     "output_type": "execute_result"
    }
   ],
   "source": [
    "forecast"
   ]
  },
  {
   "cell_type": "code",
   "execution_count": 30,
   "id": "89d0a2a7-e599-4e42-974c-25df2960fdb8",
   "metadata": {},
   "outputs": [
    {
     "name": "stdout",
     "output_type": "stream",
     "text": [
      "                               SARIMAX Results                                \n",
      "==============================================================================\n",
      "Dep. Variable:                      y   No. Observations:                  141\n",
      "Model:                ARIMA(0, 0, 30)   Log Likelihood                 170.462\n",
      "Date:                Tue, 23 Jul 2024   AIC                           -278.924\n",
      "Time:                        20:14:52   BIC                           -187.512\n",
      "Sample:                             0   HQIC                          -241.777\n",
      "                                - 141                                         \n",
      "Covariance Type:                  opg                                         \n",
      "==============================================================================\n",
      "                 coef    std err          z      P>|z|      [0.025      0.975]\n",
      "------------------------------------------------------------------------------\n",
      "ma.L1          1.1097      0.325      3.419      0.001       0.474       1.746\n",
      "ma.L2          1.1157      0.346      3.227      0.001       0.438       1.793\n",
      "ma.L3          1.2157      0.356      3.410      0.001       0.517       1.914\n",
      "ma.L4          1.2905      0.454      2.841      0.005       0.400       2.181\n",
      "ma.L5          1.2539      0.451      2.779      0.005       0.369       2.138\n",
      "ma.L6          1.2593      0.362      3.481      0.001       0.550       1.968\n",
      "ma.L7          1.2382      0.383      3.233      0.001       0.487       1.989\n",
      "ma.L8          1.4790      0.495      2.986      0.003       0.508       2.450\n",
      "ma.L9          1.4534      0.440      3.306      0.001       0.592       2.315\n",
      "ma.L10         1.5083      0.522      2.888      0.004       0.485       2.532\n",
      "ma.L11         1.5460      0.530      2.915      0.004       0.507       2.586\n",
      "ma.L12         1.3306      0.458      2.903      0.004       0.432       2.229\n",
      "ma.L13         1.3523      0.587      2.303      0.021       0.201       2.503\n",
      "ma.L14         1.3910      0.501      2.777      0.005       0.409       2.373\n",
      "ma.L15         1.3144      0.521      2.525      0.012       0.294       2.335\n",
      "ma.L16         1.3971      0.604      2.312      0.021       0.213       2.582\n",
      "ma.L17         1.3930      0.522      2.666      0.008       0.369       2.417\n",
      "ma.L18         1.3539      0.583      2.323      0.020       0.212       2.496\n",
      "ma.L19         1.4993      0.663      2.263      0.024       0.200       2.798\n",
      "ma.L20         1.0820      0.539      2.009      0.045       0.027       2.137\n",
      "ma.L21         0.7870      0.465      1.692      0.091      -0.124       1.698\n",
      "ma.L22         0.6741      0.452      1.491      0.136      -0.212       1.560\n",
      "ma.L23         0.5113      0.366      1.397      0.162      -0.206       1.229\n",
      "ma.L24         0.3480      0.413      0.842      0.400      -0.462       1.158\n",
      "ma.L25         0.4689      0.374      1.253      0.210      -0.264       1.202\n",
      "ma.L26         0.2563      0.322      0.796      0.426      -0.374       0.887\n",
      "ma.L27         0.3045      0.310      0.982      0.326      -0.303       0.912\n",
      "ma.L28        -0.1237      0.224     -0.554      0.580      -0.562       0.314\n",
      "ma.L29        -0.0704      0.188     -0.374      0.708      -0.439       0.298\n",
      "ma.L30         0.0832      0.153      0.545      0.586      -0.216       0.382\n",
      "sigma2         0.0044      0.002      2.374      0.018       0.001       0.008\n",
      "===================================================================================\n",
      "Ljung-Box (L1) (Q):                   0.00   Jarque-Bera (JB):                94.41\n",
      "Prob(Q):                              0.95   Prob(JB):                         0.00\n",
      "Heteroskedasticity (H):               0.40   Skew:                            -0.89\n",
      "Prob(H) (two-sided):                  0.00   Kurtosis:                         6.59\n",
      "===================================================================================\n",
      "\n",
      "Warnings:\n",
      "[1] Covariance matrix calculated using the outer product of gradients (complex-step).\n"
     ]
    }
   ],
   "source": [
    "print(model_fit.summary())"
   ]
  },
  {
   "cell_type": "code",
   "execution_count": 31,
   "id": "298f9484-12d7-45b4-89c4-764412f77c07",
   "metadata": {},
   "outputs": [],
   "source": [
    "from stockFunctions import conversionSingle\n",
    "fTestNormTable=conversionSingle(forecast,[\"Closefore\"])\n",
    "forecast_stock_price_test_ori=Ms.inverse_transform(fTestNormTable)\n",
    "forecast_stock_price_test_oriF=conversionSingle(forecast_stock_price_test_ori,[\"Closefore\"])"
   ]
  },
  {
   "cell_type": "code",
   "execution_count": 32,
   "id": "874798bf-05b8-4df6-a09a-70d5331bb785",
   "metadata": {},
   "outputs": [
    {
     "data": {
      "text/html": [
       "<div>\n",
       "<style scoped>\n",
       "    .dataframe tbody tr th:only-of-type {\n",
       "        vertical-align: middle;\n",
       "    }\n",
       "\n",
       "    .dataframe tbody tr th {\n",
       "        vertical-align: top;\n",
       "    }\n",
       "\n",
       "    .dataframe thead th {\n",
       "        text-align: right;\n",
       "    }\n",
       "</style>\n",
       "<table border=\"1\" class=\"dataframe\">\n",
       "  <thead>\n",
       "    <tr style=\"text-align: right;\">\n",
       "      <th></th>\n",
       "      <th>Closefore</th>\n",
       "    </tr>\n",
       "  </thead>\n",
       "  <tbody>\n",
       "    <tr>\n",
       "      <th>0</th>\n",
       "      <td>2141.388826</td>\n",
       "    </tr>\n",
       "    <tr>\n",
       "      <th>1</th>\n",
       "      <td>2152.171247</td>\n",
       "    </tr>\n",
       "    <tr>\n",
       "      <th>2</th>\n",
       "      <td>2146.09378</td>\n",
       "    </tr>\n",
       "    <tr>\n",
       "      <th>3</th>\n",
       "      <td>2145.119055</td>\n",
       "    </tr>\n",
       "    <tr>\n",
       "      <th>4</th>\n",
       "      <td>2146.5344</td>\n",
       "    </tr>\n",
       "  </tbody>\n",
       "</table>\n",
       "</div>"
      ],
      "text/plain": [
       "     Closefore\n",
       "0  2141.388826\n",
       "1  2152.171247\n",
       "2   2146.09378\n",
       "3  2145.119055\n",
       "4    2146.5344"
      ]
     },
     "execution_count": 32,
     "metadata": {},
     "output_type": "execute_result"
    }
   ],
   "source": [
    "forecast_stock_price_test_oriF"
   ]
  },
  {
   "cell_type": "code",
   "execution_count": 33,
   "id": "1333a857-81eb-4404-8b7d-79ccc27f7659",
   "metadata": {},
   "outputs": [
    {
     "data": {
      "text/plain": [
       "[<matplotlib.lines.Line2D at 0x2b3b8919690>]"
      ]
     },
     "execution_count": 33,
     "metadata": {},
     "output_type": "execute_result"
    },
    {
     "data": {
      "image/png": "[encoded data removed]",
      "text/plain": [
       "<Figure size 1000x500 with 1 Axes>"
      ]
     },
     "metadata": {},
     "output_type": "display_data"
    }
   ],
   "source": [
    "import matplotlib.pyplot as plt\n",
    "plt.figure(figsize=(10,5))\n",
    "plt.plot(actual_stock_price_test_oriA[115:144], color = 'blue', label=\"Actual\")\n",
    "plt.plot(forecast_stock_price_test_oriF, color = 'red', label =\"Predicted\")"
   ]
  },
  {
   "cell_type": "code",
   "execution_count": null,
   "id": "658de8e7-c502-48de-aa32-1a3436333709",
   "metadata": {},
   "outputs": [],
   "source": []
  }
 ],
 "metadata": {
  "kernelspec": {
   "display_name": "Python 3 (ipykernel)",
   "language": "python",
   "name": "python3"
  },
  "language_info": {
   "codemirror_mode": {
    "name": "ipython",
    "version": 3
   },
   "file_extension": ".py",
   "mimetype": "text/x-python",
   "name": "python",
   "nbconvert_exporter": "python",
   "pygments_lexer": "ipython3",
   "version": "3.11.9"
  }
 },
 "nbformat": 4,
 "nbformat_minor": 5
}
