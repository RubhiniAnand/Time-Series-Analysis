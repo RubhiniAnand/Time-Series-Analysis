{
 "cells": [
  {
   "cell_type": "code",
   "execution_count": 1,
   "id": "a224db57-96eb-4d5b-b813-0e688acde051",
   "metadata": {},
   "outputs": [],
   "source": [
    "import pandas as pd"
   ]
  },
  {
   "cell_type": "code",
   "execution_count": 3,
   "id": "636bd72b-9293-461b-854d-a9a4530a240b",
   "metadata": {},
   "outputs": [
    {
     "name": "stderr",
     "output_type": "stream",
     "text": [
      "[*********************100%%**********************]  1 of 1 completed"
     ]
    },
    {
     "name": "stdout",
     "output_type": "stream",
     "text": [
      "                   Open         High          Low        Close    Adj Close  \\\n",
      "Date                                                                          \n",
      "2022-07-01  2376.631836  2392.415039  2182.894287  2223.229248  2208.198730   \n",
      "2022-07-04  2195.770020  2253.965088  2183.909424  2227.844238  2212.782471   \n",
      "2022-07-05  2236.428223  2275.101807  2230.982422  2245.888916  2230.705078   \n",
      "2022-07-06  2233.751465  2253.918945  2204.123291  2226.136719  2211.086426   \n",
      "2022-07-07  2239.104980  2245.888916  2192.124268  2204.215576  2189.313477   \n",
      "...                 ...          ...          ...          ...          ...   \n",
      "2023-01-20  2284.424316  2284.424316  2249.581055  2254.565186  2246.629150   \n",
      "2023-01-23  2260.426270  2276.301758  2238.274170  2243.166016  2235.270020   \n",
      "2023-01-24  2252.119141  2255.488037  2203.523193  2229.921143  2222.071777   \n",
      "2023-01-25  2226.690674  2228.767334  2196.739258  2199.092773  2191.352051   \n",
      "2023-01-27  2200.800537  2203.523193  2133.652100  2157.373291  2149.779297   \n",
      "\n",
      "              Volume  \n",
      "Date                  \n",
      "2022-07-01  40998574  \n",
      "2022-07-04  20928864  \n",
      "2022-07-05   8823663  \n",
      "2022-07-06  11971863  \n",
      "2022-07-07  11650516  \n",
      "...              ...  \n",
      "2023-01-20   7465143  \n",
      "2023-01-23   5477059  \n",
      "2023-01-24   8244377  \n",
      "2023-01-25   6192509  \n",
      "2023-01-27  12915487  \n",
      "\n",
      "[144 rows x 6 columns]\n"
     ]
    },
    {
     "name": "stderr",
     "output_type": "stream",
     "text": [
      "\n"
     ]
    }
   ],
   "source": [
    "import yfinance as yf\n",
    "import datetime as dt\n",
    "\n",
    "# Define the ticker and date range\n",
    "#The ticker symbol is used by traders and investors to identify and trade the stock in the market.\n",
    "#In the Yahoo Finance API (yfinance), you use the ticker symbol to specify which stock's data you want to download.\n",
    "ticker = \"RELIANCE.NS\"\n",
    "\n",
    "start_date =dt.datetime(2022,7,1)\n",
    "end_date =dt.datetime(2023,1,28)\n",
    "\n",
    "# Download historical stock data\n",
    "data = yf.download(ticker, start=start_date, end=end_date)\n",
    "\n",
    "# Display the data\n",
    "print(data)"
   ]
  },
  {
   "cell_type": "code",
   "execution_count": 4,
   "id": "8ea806ad-deb6-4b07-9590-8469a0310856",
   "metadata": {},
   "outputs": [
    {
     "data": {
      "text/html": [
       "<div>\n",
       "<style scoped>\n",
       "    .dataframe tbody tr th:only-of-type {\n",
       "        vertical-align: middle;\n",
       "    }\n",
       "\n",
       "    .dataframe tbody tr th {\n",
       "        vertical-align: top;\n",
       "    }\n",
       "\n",
       "    .dataframe thead th {\n",
       "        text-align: right;\n",
       "    }\n",
       "</style>\n",
       "<table border=\"1\" class=\"dataframe\">\n",
       "  <thead>\n",
       "    <tr style=\"text-align: right;\">\n",
       "      <th></th>\n",
       "      <th>Open</th>\n",
       "      <th>High</th>\n",
       "      <th>Low</th>\n",
       "      <th>Close</th>\n",
       "      <th>Adj Close</th>\n",
       "      <th>Volume</th>\n",
       "    </tr>\n",
       "    <tr>\n",
       "      <th>Date</th>\n",
       "      <th></th>\n",
       "      <th></th>\n",
       "      <th></th>\n",
       "      <th></th>\n",
       "      <th></th>\n",
       "      <th></th>\n",
       "    </tr>\n",
       "  </thead>\n",
       "  <tbody>\n",
       "    <tr>\n",
       "      <th>2022-07-01</th>\n",
       "      <td>2376.631836</td>\n",
       "      <td>2392.415039</td>\n",
       "      <td>2182.894287</td>\n",
       "      <td>2223.229248</td>\n",
       "      <td>2208.198730</td>\n",
       "      <td>40998574</td>\n",
       "    </tr>\n",
       "    <tr>\n",
       "      <th>2022-07-04</th>\n",
       "      <td>2195.770020</td>\n",
       "      <td>2253.965088</td>\n",
       "      <td>2183.909424</td>\n",
       "      <td>2227.844238</td>\n",
       "      <td>2212.782471</td>\n",
       "      <td>20928864</td>\n",
       "    </tr>\n",
       "    <tr>\n",
       "      <th>2022-07-05</th>\n",
       "      <td>2236.428223</td>\n",
       "      <td>2275.101807</td>\n",
       "      <td>2230.982422</td>\n",
       "      <td>2245.888916</td>\n",
       "      <td>2230.705078</td>\n",
       "      <td>8823663</td>\n",
       "    </tr>\n",
       "    <tr>\n",
       "      <th>2022-07-06</th>\n",
       "      <td>2233.751465</td>\n",
       "      <td>2253.918945</td>\n",
       "      <td>2204.123291</td>\n",
       "      <td>2226.136719</td>\n",
       "      <td>2211.086426</td>\n",
       "      <td>11971863</td>\n",
       "    </tr>\n",
       "    <tr>\n",
       "      <th>2022-07-07</th>\n",
       "      <td>2239.104980</td>\n",
       "      <td>2245.888916</td>\n",
       "      <td>2192.124268</td>\n",
       "      <td>2204.215576</td>\n",
       "      <td>2189.313477</td>\n",
       "      <td>11650516</td>\n",
       "    </tr>\n",
       "    <tr>\n",
       "      <th>...</th>\n",
       "      <td>...</td>\n",
       "      <td>...</td>\n",
       "      <td>...</td>\n",
       "      <td>...</td>\n",
       "      <td>...</td>\n",
       "      <td>...</td>\n",
       "    </tr>\n",
       "    <tr>\n",
       "      <th>2023-01-20</th>\n",
       "      <td>2284.424316</td>\n",
       "      <td>2284.424316</td>\n",
       "      <td>2249.581055</td>\n",
       "      <td>2254.565186</td>\n",
       "      <td>2246.629150</td>\n",
       "      <td>7465143</td>\n",
       "    </tr>\n",
       "    <tr>\n",
       "      <th>2023-01-23</th>\n",
       "      <td>2260.426270</td>\n",
       "      <td>2276.301758</td>\n",
       "      <td>2238.274170</td>\n",
       "      <td>2243.166016</td>\n",
       "      <td>2235.270020</td>\n",
       "      <td>5477059</td>\n",
       "    </tr>\n",
       "    <tr>\n",
       "      <th>2023-01-24</th>\n",
       "      <td>2252.119141</td>\n",
       "      <td>2255.488037</td>\n",
       "      <td>2203.523193</td>\n",
       "      <td>2229.921143</td>\n",
       "      <td>2222.071777</td>\n",
       "      <td>8244377</td>\n",
       "    </tr>\n",
       "    <tr>\n",
       "      <th>2023-01-25</th>\n",
       "      <td>2226.690674</td>\n",
       "      <td>2228.767334</td>\n",
       "      <td>2196.739258</td>\n",
       "      <td>2199.092773</td>\n",
       "      <td>2191.352051</td>\n",
       "      <td>6192509</td>\n",
       "    </tr>\n",
       "    <tr>\n",
       "      <th>2023-01-27</th>\n",
       "      <td>2200.800537</td>\n",
       "      <td>2203.523193</td>\n",
       "      <td>2133.652100</td>\n",
       "      <td>2157.373291</td>\n",
       "      <td>2149.779297</td>\n",
       "      <td>12915487</td>\n",
       "    </tr>\n",
       "  </tbody>\n",
       "</table>\n",
       "<p>144 rows × 6 columns</p>\n",
       "</div>"
      ],
      "text/plain": [
       "                   Open         High          Low        Close    Adj Close  \\\n",
       "Date                                                                          \n",
       "2022-07-01  2376.631836  2392.415039  2182.894287  2223.229248  2208.198730   \n",
       "2022-07-04  2195.770020  2253.965088  2183.909424  2227.844238  2212.782471   \n",
       "2022-07-05  2236.428223  2275.101807  2230.982422  2245.888916  2230.705078   \n",
       "2022-07-06  2233.751465  2253.918945  2204.123291  2226.136719  2211.086426   \n",
       "2022-07-07  2239.104980  2245.888916  2192.124268  2204.215576  2189.313477   \n",
       "...                 ...          ...          ...          ...          ...   \n",
       "2023-01-20  2284.424316  2284.424316  2249.581055  2254.565186  2246.629150   \n",
       "2023-01-23  2260.426270  2276.301758  2238.274170  2243.166016  2235.270020   \n",
       "2023-01-24  2252.119141  2255.488037  2203.523193  2229.921143  2222.071777   \n",
       "2023-01-25  2226.690674  2228.767334  2196.739258  2199.092773  2191.352051   \n",
       "2023-01-27  2200.800537  2203.523193  2133.652100  2157.373291  2149.779297   \n",
       "\n",
       "              Volume  \n",
       "Date                  \n",
       "2022-07-01  40998574  \n",
       "2022-07-04  20928864  \n",
       "2022-07-05   8823663  \n",
       "2022-07-06  11971863  \n",
       "2022-07-07  11650516  \n",
       "...              ...  \n",
       "2023-01-20   7465143  \n",
       "2023-01-23   5477059  \n",
       "2023-01-24   8244377  \n",
       "2023-01-25   6192509  \n",
       "2023-01-27  12915487  \n",
       "\n",
       "[144 rows x 6 columns]"
      ]
     },
     "execution_count": 4,
     "metadata": {},
     "output_type": "execute_result"
    }
   ],
   "source": [
    "data"
   ]
  },
  {
   "cell_type": "code",
   "execution_count": 5,
   "id": "cd7e6191-cf39-4562-a917-0b33014df7d5",
   "metadata": {},
   "outputs": [],
   "source": [
    "stk_data=data[[\"Open\",\"High\",\"Low\",\"Close\"]]\n"
   ]
  },
  {
   "cell_type": "code",
   "execution_count": 6,
   "id": "66ad8fcb-a5f2-491c-be63-9a7de0a34ef5",
   "metadata": {},
   "outputs": [
    {
     "data": {
      "text/html": [
       "<div>\n",
       "<style scoped>\n",
       "    .dataframe tbody tr th:only-of-type {\n",
       "        vertical-align: middle;\n",
       "    }\n",
       "\n",
       "    .dataframe tbody tr th {\n",
       "        vertical-align: top;\n",
       "    }\n",
       "\n",
       "    .dataframe thead th {\n",
       "        text-align: right;\n",
       "    }\n",
       "</style>\n",
       "<table border=\"1\" class=\"dataframe\">\n",
       "  <thead>\n",
       "    <tr style=\"text-align: right;\">\n",
       "      <th></th>\n",
       "      <th>Open</th>\n",
       "      <th>High</th>\n",
       "      <th>Low</th>\n",
       "      <th>Close</th>\n",
       "    </tr>\n",
       "    <tr>\n",
       "      <th>Date</th>\n",
       "      <th></th>\n",
       "      <th></th>\n",
       "      <th></th>\n",
       "      <th></th>\n",
       "    </tr>\n",
       "  </thead>\n",
       "  <tbody>\n",
       "    <tr>\n",
       "      <th>2022-07-01</th>\n",
       "      <td>2376.631836</td>\n",
       "      <td>2392.415039</td>\n",
       "      <td>2182.894287</td>\n",
       "      <td>2223.229248</td>\n",
       "    </tr>\n",
       "    <tr>\n",
       "      <th>2022-07-04</th>\n",
       "      <td>2195.770020</td>\n",
       "      <td>2253.965088</td>\n",
       "      <td>2183.909424</td>\n",
       "      <td>2227.844238</td>\n",
       "    </tr>\n",
       "    <tr>\n",
       "      <th>2022-07-05</th>\n",
       "      <td>2236.428223</td>\n",
       "      <td>2275.101807</td>\n",
       "      <td>2230.982422</td>\n",
       "      <td>2245.888916</td>\n",
       "    </tr>\n",
       "    <tr>\n",
       "      <th>2022-07-06</th>\n",
       "      <td>2233.751465</td>\n",
       "      <td>2253.918945</td>\n",
       "      <td>2204.123291</td>\n",
       "      <td>2226.136719</td>\n",
       "    </tr>\n",
       "    <tr>\n",
       "      <th>2022-07-07</th>\n",
       "      <td>2239.104980</td>\n",
       "      <td>2245.888916</td>\n",
       "      <td>2192.124268</td>\n",
       "      <td>2204.215576</td>\n",
       "    </tr>\n",
       "    <tr>\n",
       "      <th>...</th>\n",
       "      <td>...</td>\n",
       "      <td>...</td>\n",
       "      <td>...</td>\n",
       "      <td>...</td>\n",
       "    </tr>\n",
       "    <tr>\n",
       "      <th>2023-01-20</th>\n",
       "      <td>2284.424316</td>\n",
       "      <td>2284.424316</td>\n",
       "      <td>2249.581055</td>\n",
       "      <td>2254.565186</td>\n",
       "    </tr>\n",
       "    <tr>\n",
       "      <th>2023-01-23</th>\n",
       "      <td>2260.426270</td>\n",
       "      <td>2276.301758</td>\n",
       "      <td>2238.274170</td>\n",
       "      <td>2243.166016</td>\n",
       "    </tr>\n",
       "    <tr>\n",
       "      <th>2023-01-24</th>\n",
       "      <td>2252.119141</td>\n",
       "      <td>2255.488037</td>\n",
       "      <td>2203.523193</td>\n",
       "      <td>2229.921143</td>\n",
       "    </tr>\n",
       "    <tr>\n",
       "      <th>2023-01-25</th>\n",
       "      <td>2226.690674</td>\n",
       "      <td>2228.767334</td>\n",
       "      <td>2196.739258</td>\n",
       "      <td>2199.092773</td>\n",
       "    </tr>\n",
       "    <tr>\n",
       "      <th>2023-01-27</th>\n",
       "      <td>2200.800537</td>\n",
       "      <td>2203.523193</td>\n",
       "      <td>2133.652100</td>\n",
       "      <td>2157.373291</td>\n",
       "    </tr>\n",
       "  </tbody>\n",
       "</table>\n",
       "<p>144 rows × 4 columns</p>\n",
       "</div>"
      ],
      "text/plain": [
       "                   Open         High          Low        Close\n",
       "Date                                                          \n",
       "2022-07-01  2376.631836  2392.415039  2182.894287  2223.229248\n",
       "2022-07-04  2195.770020  2253.965088  2183.909424  2227.844238\n",
       "2022-07-05  2236.428223  2275.101807  2230.982422  2245.888916\n",
       "2022-07-06  2233.751465  2253.918945  2204.123291  2226.136719\n",
       "2022-07-07  2239.104980  2245.888916  2192.124268  2204.215576\n",
       "...                 ...          ...          ...          ...\n",
       "2023-01-20  2284.424316  2284.424316  2249.581055  2254.565186\n",
       "2023-01-23  2260.426270  2276.301758  2238.274170  2243.166016\n",
       "2023-01-24  2252.119141  2255.488037  2203.523193  2229.921143\n",
       "2023-01-25  2226.690674  2228.767334  2196.739258  2199.092773\n",
       "2023-01-27  2200.800537  2203.523193  2133.652100  2157.373291\n",
       "\n",
       "[144 rows x 4 columns]"
      ]
     },
     "execution_count": 6,
     "metadata": {},
     "output_type": "execute_result"
    }
   ],
   "source": [
    "stk_data\n"
   ]
  },
  {
   "cell_type": "code",
   "execution_count": 7,
   "id": "569dfea0-e782-47de-b463-0753a682f05e",
   "metadata": {},
   "outputs": [],
   "source": [
    "column=\"Close\""
   ]
  },
  {
   "cell_type": "code",
   "execution_count": 8,
   "id": "36570163-d093-4509-8bb7-ca7a4a7d4918",
   "metadata": {},
   "outputs": [
    {
     "name": "stdout",
     "output_type": "stream",
     "text": [
      "Len: (144, 1)\n"
     ]
    }
   ],
   "source": [
    "from sklearn.preprocessing import MinMaxScaler\n",
    "Ms=MinMaxScaler()\n",
    "data1=Ms.fit_transform(stk_data[[column]])\n",
    "print(\"Len:\",data1.shape)"
   ]
  },
  {
   "cell_type": "code",
   "execution_count": 9,
   "id": "28ac250e-7cc2-45d9-aaea-5d44b05600dd",
   "metadata": {},
   "outputs": [],
   "source": [
    "training_size=round(len(data1) * 0.80)"
   ]
  },
  {
   "cell_type": "code",
   "execution_count": 10,
   "id": "b2a3814e-bfb9-4722-875b-18c849ad9979",
   "metadata": {},
   "outputs": [
    {
     "name": "stdout",
     "output_type": "stream",
     "text": [
      "115\n"
     ]
    }
   ],
   "source": [
    "print(training_size)"
   ]
  },
  {
   "cell_type": "code",
   "execution_count": 11,
   "id": "4867b78f-bcc2-4114-9475-0505bc5355d2",
   "metadata": {},
   "outputs": [],
   "source": [
    "X_train=data1[:training_size]"
   ]
  },
  {
   "cell_type": "code",
   "execution_count": 12,
   "id": "5f665853-12a4-4dfd-a3cc-7427548cb2af",
   "metadata": {},
   "outputs": [],
   "source": [
    "X_test=data1[training_size:]"
   ]
  },
  {
   "cell_type": "code",
   "execution_count": 13,
   "id": "9155d4b9-23ae-405c-8fee-67454fc734a3",
   "metadata": {},
   "outputs": [
    {
     "data": {
      "text/plain": [
       "array([[0.20539308],\n",
       "       [0.21770682],\n",
       "       [0.2658537 ],\n",
       "       [0.21315081],\n",
       "       [0.15466073],\n",
       "       [0.1627878 ],\n",
       "       [0.24282741],\n",
       "       [0.23433033],\n",
       "       [0.12867831],\n",
       "       [0.17694831],\n",
       "       [0.18840022],\n",
       "       [0.23876387],\n",
       "       [0.27533572],\n",
       "       [0.43763041],\n",
       "       [0.39650254],\n",
       "       [0.43787729],\n",
       "       [0.23420721],\n",
       "       [0.23691645],\n",
       "       [0.23125238],\n",
       "       [0.32459067],\n",
       "       [0.45351521],\n",
       "       [0.61457936],\n",
       "       [0.63871436],\n",
       "       [0.69215596],\n",
       "       [0.60731411],\n",
       "       [0.51397583],\n",
       "       [0.59561596],\n",
       "       [0.63341965],\n",
       "       [0.65459917],\n",
       "       [0.75778818],\n",
       "       [0.80285646],\n",
       "       [0.83696596],\n",
       "       [0.82748459],\n",
       "       [0.71062689],\n",
       "       [0.69277155],\n",
       "       [0.79177456],\n",
       "       [0.77441169],\n",
       "       [0.75544894],\n",
       "       [0.72084697],\n",
       "       [0.67073021],\n",
       "       [0.7699788 ],\n",
       "       [0.57899245],\n",
       "       [0.50535628],\n",
       "       [0.60214251],\n",
       "       [0.66875967],\n",
       "       [0.63157223],\n",
       "       [0.64056113],\n",
       "       [0.60091133],\n",
       "       [0.67171515],\n",
       "       [0.72515675],\n",
       "       [0.64782638],\n",
       "       [0.58465718],\n",
       "       [0.42827215],\n",
       "       [0.43627611],\n",
       "       [0.43726105],\n",
       "       [0.45425457],\n",
       "       [0.39601007],\n",
       "       [0.28124603],\n",
       "       [0.12818584],\n",
       "       [0.17473219],\n",
       "       [0.01760845],\n",
       "       [0.        ],\n",
       "       [0.12917143],\n",
       "       [0.10885373],\n",
       "       [0.21647564],\n",
       "       [0.23839387],\n",
       "       [0.26363758],\n",
       "       [0.1982516 ],\n",
       "       [0.08028519],\n",
       "       [0.12301424],\n",
       "       [0.14160828],\n",
       "       [0.11180856],\n",
       "       [0.2055162 ],\n",
       "       [0.31018328],\n",
       "       [0.41521971],\n",
       "       [0.4317201 ],\n",
       "       [0.36030004],\n",
       "       [0.38061774],\n",
       "       [0.28629451],\n",
       "       [0.30993704],\n",
       "       [0.49464372],\n",
       "       [0.5523951 ],\n",
       "       [0.50375574],\n",
       "       [0.54266684],\n",
       "       [0.56606313],\n",
       "       [0.65866271],\n",
       "       [0.69277155],\n",
       "       [0.68636877],\n",
       "       [0.60879218],\n",
       "       [0.75483335],\n",
       "       [0.7234331 ],\n",
       "       [0.69449585],\n",
       "       [0.65767776],\n",
       "       [0.67417816],\n",
       "       [0.67073021],\n",
       "       [0.55559681],\n",
       "       [0.59044436],\n",
       "       [0.57074226],\n",
       "       [0.62504633],\n",
       "       [0.71986203],\n",
       "       [0.9413868 ],\n",
       "       [0.95283806],\n",
       "       [1.        ],\n",
       "       [0.98017478],\n",
       "       [0.97734241],\n",
       "       [0.87957124],\n",
       "       [0.89865776],\n",
       "       [0.80088658],\n",
       "       [0.79780798],\n",
       "       [0.69892874],\n",
       "       [0.70877947],\n",
       "       [0.73808672],\n",
       "       [0.71469043],\n",
       "       [0.62319891],\n",
       "       [0.59179866]])"
      ]
     },
     "execution_count": 13,
     "metadata": {},
     "output_type": "execute_result"
    }
   ],
   "source": [
    "X_train"
   ]
  },
  {
   "cell_type": "code",
   "execution_count": 14,
   "id": "2e91e289-5696-4cfe-905f-b224850e15d5",
   "metadata": {},
   "outputs": [
    {
     "data": {
      "text/plain": [
       "array([[0.67479375],\n",
       "       [0.73020588],\n",
       "       [0.63834501],\n",
       "       [0.62184462],\n",
       "       [0.43566052],\n",
       "       [0.48947147],\n",
       "       [0.5403276 ],\n",
       "       [0.53971201],\n",
       "       [0.53687965],\n",
       "       [0.54648414],\n",
       "       [0.61716549],\n",
       "       [0.57074226],\n",
       "       [0.47592656],\n",
       "       [0.464844  ],\n",
       "       [0.52111796],\n",
       "       [0.66863655],\n",
       "       [0.57406709],\n",
       "       [0.49464372],\n",
       "       [0.36030004],\n",
       "       [0.35044931],\n",
       "       [0.29257482],\n",
       "       [0.37803226],\n",
       "       [0.36793465],\n",
       "       [0.36140875],\n",
       "       [0.28900376],\n",
       "       [0.25858844],\n",
       "       [0.22324842],\n",
       "       [0.14099204],\n",
       "       [0.02967595]])"
      ]
     },
     "execution_count": 14,
     "metadata": {},
     "output_type": "execute_result"
    }
   ],
   "source": [
    "X_test"
   ]
  },
  {
   "cell_type": "code",
   "execution_count": 15,
   "id": "a23bf8e2-dc1b-4575-bf16-a3453b68df03",
   "metadata": {},
   "outputs": [
    {
     "name": "stdout",
     "output_type": "stream",
     "text": [
      "X_train Length: (115, 1)\n",
      "X_test Length: (29, 1)\n"
     ]
    }
   ],
   "source": [
    "print(\"X_train Length:\",X_train.shape)\n",
    "print(\"X_test Length:\",X_test.shape)"
   ]
  },
  {
   "cell_type": "code",
   "execution_count": 16,
   "id": "9cb67ae4-e63c-40df-b849-cea999673170",
   "metadata": {},
   "outputs": [],
   "source": [
    "y_train=data1[:training_size]\n",
    "y_test=data1[training_size:]"
   ]
  },
  {
   "cell_type": "code",
   "execution_count": 17,
   "id": "55362be9-485a-46f4-9272-7c24dd992dc7",
   "metadata": {},
   "outputs": [
    {
     "data": {
      "text/plain": [
       "array([[0.20539308],\n",
       "       [0.21770682],\n",
       "       [0.2658537 ],\n",
       "       [0.21315081],\n",
       "       [0.15466073],\n",
       "       [0.1627878 ],\n",
       "       [0.24282741],\n",
       "       [0.23433033],\n",
       "       [0.12867831],\n",
       "       [0.17694831],\n",
       "       [0.18840022],\n",
       "       [0.23876387],\n",
       "       [0.27533572],\n",
       "       [0.43763041],\n",
       "       [0.39650254],\n",
       "       [0.43787729],\n",
       "       [0.23420721],\n",
       "       [0.23691645],\n",
       "       [0.23125238],\n",
       "       [0.32459067],\n",
       "       [0.45351521],\n",
       "       [0.61457936],\n",
       "       [0.63871436],\n",
       "       [0.69215596],\n",
       "       [0.60731411],\n",
       "       [0.51397583],\n",
       "       [0.59561596],\n",
       "       [0.63341965],\n",
       "       [0.65459917],\n",
       "       [0.75778818],\n",
       "       [0.80285646],\n",
       "       [0.83696596],\n",
       "       [0.82748459],\n",
       "       [0.71062689],\n",
       "       [0.69277155],\n",
       "       [0.79177456],\n",
       "       [0.77441169],\n",
       "       [0.75544894],\n",
       "       [0.72084697],\n",
       "       [0.67073021],\n",
       "       [0.7699788 ],\n",
       "       [0.57899245],\n",
       "       [0.50535628],\n",
       "       [0.60214251],\n",
       "       [0.66875967],\n",
       "       [0.63157223],\n",
       "       [0.64056113],\n",
       "       [0.60091133],\n",
       "       [0.67171515],\n",
       "       [0.72515675],\n",
       "       [0.64782638],\n",
       "       [0.58465718],\n",
       "       [0.42827215],\n",
       "       [0.43627611],\n",
       "       [0.43726105],\n",
       "       [0.45425457],\n",
       "       [0.39601007],\n",
       "       [0.28124603],\n",
       "       [0.12818584],\n",
       "       [0.17473219],\n",
       "       [0.01760845],\n",
       "       [0.        ],\n",
       "       [0.12917143],\n",
       "       [0.10885373],\n",
       "       [0.21647564],\n",
       "       [0.23839387],\n",
       "       [0.26363758],\n",
       "       [0.1982516 ],\n",
       "       [0.08028519],\n",
       "       [0.12301424],\n",
       "       [0.14160828],\n",
       "       [0.11180856],\n",
       "       [0.2055162 ],\n",
       "       [0.31018328],\n",
       "       [0.41521971],\n",
       "       [0.4317201 ],\n",
       "       [0.36030004],\n",
       "       [0.38061774],\n",
       "       [0.28629451],\n",
       "       [0.30993704],\n",
       "       [0.49464372],\n",
       "       [0.5523951 ],\n",
       "       [0.50375574],\n",
       "       [0.54266684],\n",
       "       [0.56606313],\n",
       "       [0.65866271],\n",
       "       [0.69277155],\n",
       "       [0.68636877],\n",
       "       [0.60879218],\n",
       "       [0.75483335],\n",
       "       [0.7234331 ],\n",
       "       [0.69449585],\n",
       "       [0.65767776],\n",
       "       [0.67417816],\n",
       "       [0.67073021],\n",
       "       [0.55559681],\n",
       "       [0.59044436],\n",
       "       [0.57074226],\n",
       "       [0.62504633],\n",
       "       [0.71986203],\n",
       "       [0.9413868 ],\n",
       "       [0.95283806],\n",
       "       [1.        ],\n",
       "       [0.98017478],\n",
       "       [0.97734241],\n",
       "       [0.87957124],\n",
       "       [0.89865776],\n",
       "       [0.80088658],\n",
       "       [0.79780798],\n",
       "       [0.69892874],\n",
       "       [0.70877947],\n",
       "       [0.73808672],\n",
       "       [0.71469043],\n",
       "       [0.62319891],\n",
       "       [0.59179866]])"
      ]
     },
     "execution_count": 17,
     "metadata": {},
     "output_type": "execute_result"
    }
   ],
   "source": [
    "y_train"
   ]
  },
  {
   "cell_type": "code",
   "execution_count": 18,
   "id": "22389642-70b0-446f-895f-a2f49060fac7",
   "metadata": {},
   "outputs": [
    {
     "data": {
      "text/plain": [
       "array([[0.67479375],\n",
       "       [0.73020588],\n",
       "       [0.63834501],\n",
       "       [0.62184462],\n",
       "       [0.43566052],\n",
       "       [0.48947147],\n",
       "       [0.5403276 ],\n",
       "       [0.53971201],\n",
       "       [0.53687965],\n",
       "       [0.54648414],\n",
       "       [0.61716549],\n",
       "       [0.57074226],\n",
       "       [0.47592656],\n",
       "       [0.464844  ],\n",
       "       [0.52111796],\n",
       "       [0.66863655],\n",
       "       [0.57406709],\n",
       "       [0.49464372],\n",
       "       [0.36030004],\n",
       "       [0.35044931],\n",
       "       [0.29257482],\n",
       "       [0.37803226],\n",
       "       [0.36793465],\n",
       "       [0.36140875],\n",
       "       [0.28900376],\n",
       "       [0.25858844],\n",
       "       [0.22324842],\n",
       "       [0.14099204],\n",
       "       [0.02967595]])"
      ]
     },
     "execution_count": 18,
     "metadata": {},
     "output_type": "execute_result"
    }
   ],
   "source": [
    "y_test"
   ]
  },
  {
   "cell_type": "code",
   "execution_count": 19,
   "id": "2c66ee64-323a-45fc-bbed-c5f841ff6484",
   "metadata": {},
   "outputs": [
    {
     "name": "stdout",
     "output_type": "stream",
     "text": [
      "y_train Length: (115, 1)\n",
      "y Length: (29, 1)\n"
     ]
    }
   ],
   "source": [
    "print(\"y_train Length:\",y_train.shape)\n",
    "print(\"y Length:\",y_test.shape)"
   ]
  },
  {
   "cell_type": "code",
   "execution_count": 20,
   "id": "8c2bb263-15d1-431d-bd61-b1683b1acedf",
   "metadata": {},
   "outputs": [
    {
     "name": "stdout",
     "output_type": "stream",
     "text": [
      "115\n",
      "X_train Length: (115, 1)\n",
      "X_test Length: (29, 1)\n",
      "y_train Length: (115, 1)\n",
      "y Length: (29, 1)\n"
     ]
    }
   ],
   "source": [
    "training_size=round(len(data1) * 0.80)\n",
    "print(training_size)\n",
    "X_train=data1[:training_size]\n",
    "X_test=data1[training_size:]\n",
    "print(\"X_train Length:\",X_train.shape)\n",
    "print(\"X_test Length:\",X_test.shape)\n",
    "y_train=data1[:training_size]\n",
    "y_test=data1[training_size:]\n",
    "print(\"y_train Length:\",y_train.shape)\n",
    "print(\"y Length:\",y_test.shape)"
   ]
  },
  {
   "cell_type": "code",
   "execution_count": 22,
   "id": "a768e9e6-ab3d-40df-9d78-3e3939935c7f",
   "metadata": {},
   "outputs": [
    {
     "name": "stdout",
     "output_type": "stream",
     "text": [
      "Lag=1,Trend=n\n",
      "RMSE-Testset: 0.17088381694384125\n",
      "maPe-Testset: 0.9217688053311958\n",
      "***************\n",
      "Lag=1,Trend=t\n",
      "RMSE-Testset: 0.3679045841220484\n",
      "maPe-Testset: 1.8254857002659877\n",
      "***************\n",
      "Lag=1,Trend=c\n",
      "RMSE-Testset: 0.20283017793356742\n",
      "maPe-Testset: 1.0750436332990896\n",
      "***************\n",
      "Lag=1,Trend=ct\n",
      "RMSE-Testset: 0.250816477402564\n",
      "maPe-Testset: 1.2945439089512791\n",
      "***************\n",
      "Lag=2,Trend=n\n",
      "RMSE-Testset: 0.15125256976803741\n",
      "maPe-Testset: 0.8209162816778985\n",
      "***************\n",
      "Lag=2,Trend=t\n",
      "RMSE-Testset: 0.3950234962109877\n",
      "maPe-Testset: 1.94247650036807\n",
      "***************\n",
      "Lag=2,Trend=c\n",
      "RMSE-Testset: 0.19424863995153271\n",
      "maPe-Testset: 1.0356415657372888\n",
      "***************\n",
      "Lag=2,Trend=ct\n",
      "RMSE-Testset: 0.26209735878406626\n",
      "maPe-Testset: 1.34495022086082\n",
      "***************\n",
      "Lag=3,Trend=n\n",
      "RMSE-Testset: 0.14448275443818898\n",
      "maPe-Testset: 0.784267371742464\n",
      "***************\n",
      "Lag=3,Trend=t\n",
      "RMSE-Testset: 0.40289436716394456\n",
      "maPe-Testset: 1.9760536027948368\n",
      "***************\n",
      "Lag=3,Trend=c\n",
      "RMSE-Testset: 0.18922882398669028\n",
      "maPe-Testset: 1.0120545011577897\n",
      "***************\n",
      "Lag=3,Trend=ct\n",
      "RMSE-Testset: 0.2702661550438157\n",
      "maPe-Testset: 1.3815630717927532\n",
      "***************\n",
      "Lag=4,Trend=n\n",
      "RMSE-Testset: 0.16908562435546268\n",
      "maPe-Testset: 0.912347704992294\n",
      "***************\n",
      "Lag=4,Trend=t\n",
      "RMSE-Testset: 0.39150863632672583\n",
      "maPe-Testset: 1.9269838426980659\n",
      "***************\n",
      "Lag=4,Trend=c\n",
      "RMSE-Testset: 0.19921170212124667\n",
      "maPe-Testset: 1.0580936441111017\n",
      "***************\n",
      "Lag=4,Trend=ct\n",
      "RMSE-Testset: 0.253928652916708\n",
      "maPe-Testset: 1.307965943334771\n",
      "***************\n"
     ]
    }
   ],
   "source": [
    "from sklearn.metrics import mean_squared_error\n",
    "lags=[1,2,3,4]\n",
    "trend=['n','t','c','ct']\n",
    "from statsmodels.tsa.ar_model import AutoReg\n",
    "for i in lags:\n",
    "    for td in trend:\n",
    "        model=AutoReg(X_train,lags=i,trend=td)\n",
    "        model_fit=model.fit()\n",
    "        y_pred=model_fit.predict(len(X_train),len(data1)-1)\n",
    "        from stockFunctions import rmsemape\n",
    "        print(\"Lag={},Trend={}\".format(i,td))\n",
    "        rmsemape(y_test,y_pred)\n",
    "        print(\"***************\")"
   ]
  },
  {
   "cell_type": "code",
   "execution_count": 23,
   "id": "00b6962f-e184-476a-a071-32a74f4eac55",
   "metadata": {},
   "outputs": [
    {
     "name": "stdout",
     "output_type": "stream",
     "text": [
      "Lag=3,Trend=n\n",
      "RMSE-Testset: 0.14448275443818898\n",
      "maPe-Testset: 0.784267371742464\n",
      "************\n"
     ]
    }
   ],
   "source": [
    "i=3\n",
    "td=\"n\"\n",
    "model = AutoReg(X_train, lags=i,trend=td)\n",
    "model_fit = model.fit()\n",
    "y_pred= model_fit.predict(len(X_train), len(data1)-1)\n",
    "mse=mean_squared_error(y_test,y_pred,squared=False)\n",
    "from stockFunctions import rmsemape\n",
    "print(\"Lag={},Trend={}\".format(i,td))\n",
    "rmsemape(y_test,y_pred)\n",
    "print(\"************\")"
   ]
  },
  {
   "cell_type": "code",
   "execution_count": 24,
   "id": "e2dfabee-8e90-4730-b430-0f86098c4eff",
   "metadata": {},
   "outputs": [
    {
     "data": {
      "image/png": "[encoded data removed]",
      "text/plain": [
       "<Figure size 1000x500 with 1 Axes>"
      ]
     },
     "metadata": {},
     "output_type": "display_data"
    }
   ],
   "source": [
    "from stockFunctions import graph\n",
    "graph(y_test,y_pred,\"Actual\",\"Predicted\",\"Reliance-Close-AR-Norm\",\"Days\",\"Prices\")"
   ]
  },
  {
   "cell_type": "code",
   "execution_count": 25,
   "id": "f2057b81-7c08-4fe0-947f-3a2f0cd16407",
   "metadata": {},
   "outputs": [],
   "source": [
    "from stockFunctions import conversionSingle\n",
    "aTestNormTable=conversionSingle(y_test,[column])"
   ]
  },
  {
   "cell_type": "code",
   "execution_count": 26,
   "id": "0db23e35-afc2-4741-b31b-99fc61029bd7",
   "metadata": {},
   "outputs": [
    {
     "data": {
      "text/html": [
       "<div>\n",
       "<style scoped>\n",
       "    .dataframe tbody tr th:only-of-type {\n",
       "        vertical-align: middle;\n",
       "    }\n",
       "\n",
       "    .dataframe tbody tr th {\n",
       "        vertical-align: top;\n",
       "    }\n",
       "\n",
       "    .dataframe thead th {\n",
       "        text-align: right;\n",
       "    }\n",
       "</style>\n",
       "<table border=\"1\" class=\"dataframe\">\n",
       "  <thead>\n",
       "    <tr style=\"text-align: right;\">\n",
       "      <th></th>\n",
       "      <th>Close</th>\n",
       "    </tr>\n",
       "  </thead>\n",
       "  <tbody>\n",
       "    <tr>\n",
       "      <th>0</th>\n",
       "      <td>0.674794</td>\n",
       "    </tr>\n",
       "    <tr>\n",
       "      <th>1</th>\n",
       "      <td>0.730206</td>\n",
       "    </tr>\n",
       "    <tr>\n",
       "      <th>2</th>\n",
       "      <td>0.638345</td>\n",
       "    </tr>\n",
       "    <tr>\n",
       "      <th>3</th>\n",
       "      <td>0.621845</td>\n",
       "    </tr>\n",
       "    <tr>\n",
       "      <th>4</th>\n",
       "      <td>0.435661</td>\n",
       "    </tr>\n",
       "    <tr>\n",
       "      <th>5</th>\n",
       "      <td>0.489471</td>\n",
       "    </tr>\n",
       "    <tr>\n",
       "      <th>6</th>\n",
       "      <td>0.540328</td>\n",
       "    </tr>\n",
       "    <tr>\n",
       "      <th>7</th>\n",
       "      <td>0.539712</td>\n",
       "    </tr>\n",
       "    <tr>\n",
       "      <th>8</th>\n",
       "      <td>0.53688</td>\n",
       "    </tr>\n",
       "    <tr>\n",
       "      <th>9</th>\n",
       "      <td>0.546484</td>\n",
       "    </tr>\n",
       "    <tr>\n",
       "      <th>10</th>\n",
       "      <td>0.617165</td>\n",
       "    </tr>\n",
       "    <tr>\n",
       "      <th>11</th>\n",
       "      <td>0.570742</td>\n",
       "    </tr>\n",
       "    <tr>\n",
       "      <th>12</th>\n",
       "      <td>0.475927</td>\n",
       "    </tr>\n",
       "    <tr>\n",
       "      <th>13</th>\n",
       "      <td>0.464844</td>\n",
       "    </tr>\n",
       "    <tr>\n",
       "      <th>14</th>\n",
       "      <td>0.521118</td>\n",
       "    </tr>\n",
       "    <tr>\n",
       "      <th>15</th>\n",
       "      <td>0.668637</td>\n",
       "    </tr>\n",
       "    <tr>\n",
       "      <th>16</th>\n",
       "      <td>0.574067</td>\n",
       "    </tr>\n",
       "    <tr>\n",
       "      <th>17</th>\n",
       "      <td>0.494644</td>\n",
       "    </tr>\n",
       "    <tr>\n",
       "      <th>18</th>\n",
       "      <td>0.3603</td>\n",
       "    </tr>\n",
       "    <tr>\n",
       "      <th>19</th>\n",
       "      <td>0.350449</td>\n",
       "    </tr>\n",
       "    <tr>\n",
       "      <th>20</th>\n",
       "      <td>0.292575</td>\n",
       "    </tr>\n",
       "    <tr>\n",
       "      <th>21</th>\n",
       "      <td>0.378032</td>\n",
       "    </tr>\n",
       "    <tr>\n",
       "      <th>22</th>\n",
       "      <td>0.367935</td>\n",
       "    </tr>\n",
       "    <tr>\n",
       "      <th>23</th>\n",
       "      <td>0.361409</td>\n",
       "    </tr>\n",
       "    <tr>\n",
       "      <th>24</th>\n",
       "      <td>0.289004</td>\n",
       "    </tr>\n",
       "    <tr>\n",
       "      <th>25</th>\n",
       "      <td>0.258588</td>\n",
       "    </tr>\n",
       "    <tr>\n",
       "      <th>26</th>\n",
       "      <td>0.223248</td>\n",
       "    </tr>\n",
       "    <tr>\n",
       "      <th>27</th>\n",
       "      <td>0.140992</td>\n",
       "    </tr>\n",
       "    <tr>\n",
       "      <th>28</th>\n",
       "      <td>0.029676</td>\n",
       "    </tr>\n",
       "  </tbody>\n",
       "</table>\n",
       "</div>"
      ],
      "text/plain": [
       "       Close\n",
       "0   0.674794\n",
       "1   0.730206\n",
       "2   0.638345\n",
       "3   0.621845\n",
       "4   0.435661\n",
       "5   0.489471\n",
       "6   0.540328\n",
       "7   0.539712\n",
       "8    0.53688\n",
       "9   0.546484\n",
       "10  0.617165\n",
       "11  0.570742\n",
       "12  0.475927\n",
       "13  0.464844\n",
       "14  0.521118\n",
       "15  0.668637\n",
       "16  0.574067\n",
       "17  0.494644\n",
       "18    0.3603\n",
       "19  0.350449\n",
       "20  0.292575\n",
       "21  0.378032\n",
       "22  0.367935\n",
       "23  0.361409\n",
       "24  0.289004\n",
       "25  0.258588\n",
       "26  0.223248\n",
       "27  0.140992\n",
       "28  0.029676"
      ]
     },
     "execution_count": 26,
     "metadata": {},
     "output_type": "execute_result"
    }
   ],
   "source": [
    "aTestNormTable"
   ]
  },
  {
   "cell_type": "code",
   "execution_count": 27,
   "id": "4ecf4d65-0396-47dd-8e3d-594d03eef05e",
   "metadata": {},
   "outputs": [],
   "source": [
    "actual_stock_price_test_ori=Ms.inverse_transform(aTestNormTable)"
   ]
  },
  {
   "cell_type": "code",
   "execution_count": 28,
   "id": "8648e30f-b048-4e9d-9014-40244d6a8d33",
   "metadata": {},
   "outputs": [
    {
     "data": {
      "text/plain": [
       "array([[2399.15307617],\n",
       "       [2419.9206543 ],\n",
       "       [2385.49267578],\n",
       "       [2379.30859375],\n",
       "       [2309.52978516],\n",
       "       [2329.69726562],\n",
       "       [2348.75732422],\n",
       "       [2348.52661133],\n",
       "       [2347.46508789],\n",
       "       [2351.06469727],\n",
       "       [2377.55493164],\n",
       "       [2360.15625   ],\n",
       "       [2324.62084961],\n",
       "       [2320.46728516],\n",
       "       [2341.55786133],\n",
       "       [2396.84545898],\n",
       "       [2361.40234375],\n",
       "       [2331.63574219],\n",
       "       [2281.28588867],\n",
       "       [2277.59399414],\n",
       "       [2255.90356445],\n",
       "       [2287.93164062],\n",
       "       [2284.1472168 ],\n",
       "       [2281.70141602],\n",
       "       [2254.56518555],\n",
       "       [2243.16601562],\n",
       "       [2229.92114258],\n",
       "       [2199.09277344],\n",
       "       [2157.37329102]])"
      ]
     },
     "execution_count": 28,
     "metadata": {},
     "output_type": "execute_result"
    }
   ],
   "source": [
    "actual_stock_price_test_ori"
   ]
  },
  {
   "cell_type": "code",
   "execution_count": 29,
   "id": "dc66c21f-c3ea-4c33-a0b5-ed4f2f7956ca",
   "metadata": {},
   "outputs": [],
   "source": [
    "actual_stock_price_test_oriA=conversionSingle(actual_stock_price_test_ori,[column])"
   ]
  },
  {
   "cell_type": "code",
   "execution_count": 30,
   "id": "0f942a26-b956-4478-a3ab-9575f5b38817",
   "metadata": {},
   "outputs": [
    {
     "data": {
      "text/html": [
       "<div>\n",
       "<style scoped>\n",
       "    .dataframe tbody tr th:only-of-type {\n",
       "        vertical-align: middle;\n",
       "    }\n",
       "\n",
       "    .dataframe tbody tr th {\n",
       "        vertical-align: top;\n",
       "    }\n",
       "\n",
       "    .dataframe thead th {\n",
       "        text-align: right;\n",
       "    }\n",
       "</style>\n",
       "<table border=\"1\" class=\"dataframe\">\n",
       "  <thead>\n",
       "    <tr style=\"text-align: right;\">\n",
       "      <th></th>\n",
       "      <th>Close</th>\n",
       "    </tr>\n",
       "  </thead>\n",
       "  <tbody>\n",
       "    <tr>\n",
       "      <th>0</th>\n",
       "      <td>2399.153076</td>\n",
       "    </tr>\n",
       "    <tr>\n",
       "      <th>1</th>\n",
       "      <td>2419.920654</td>\n",
       "    </tr>\n",
       "    <tr>\n",
       "      <th>2</th>\n",
       "      <td>2385.492676</td>\n",
       "    </tr>\n",
       "    <tr>\n",
       "      <th>3</th>\n",
       "      <td>2379.308594</td>\n",
       "    </tr>\n",
       "    <tr>\n",
       "      <th>4</th>\n",
       "      <td>2309.529785</td>\n",
       "    </tr>\n",
       "    <tr>\n",
       "      <th>5</th>\n",
       "      <td>2329.697266</td>\n",
       "    </tr>\n",
       "    <tr>\n",
       "      <th>6</th>\n",
       "      <td>2348.757324</td>\n",
       "    </tr>\n",
       "    <tr>\n",
       "      <th>7</th>\n",
       "      <td>2348.526611</td>\n",
       "    </tr>\n",
       "    <tr>\n",
       "      <th>8</th>\n",
       "      <td>2347.465088</td>\n",
       "    </tr>\n",
       "    <tr>\n",
       "      <th>9</th>\n",
       "      <td>2351.064697</td>\n",
       "    </tr>\n",
       "    <tr>\n",
       "      <th>10</th>\n",
       "      <td>2377.554932</td>\n",
       "    </tr>\n",
       "    <tr>\n",
       "      <th>11</th>\n",
       "      <td>2360.15625</td>\n",
       "    </tr>\n",
       "    <tr>\n",
       "      <th>12</th>\n",
       "      <td>2324.62085</td>\n",
       "    </tr>\n",
       "    <tr>\n",
       "      <th>13</th>\n",
       "      <td>2320.467285</td>\n",
       "    </tr>\n",
       "    <tr>\n",
       "      <th>14</th>\n",
       "      <td>2341.557861</td>\n",
       "    </tr>\n",
       "    <tr>\n",
       "      <th>15</th>\n",
       "      <td>2396.845459</td>\n",
       "    </tr>\n",
       "    <tr>\n",
       "      <th>16</th>\n",
       "      <td>2361.402344</td>\n",
       "    </tr>\n",
       "    <tr>\n",
       "      <th>17</th>\n",
       "      <td>2331.635742</td>\n",
       "    </tr>\n",
       "    <tr>\n",
       "      <th>18</th>\n",
       "      <td>2281.285889</td>\n",
       "    </tr>\n",
       "    <tr>\n",
       "      <th>19</th>\n",
       "      <td>2277.593994</td>\n",
       "    </tr>\n",
       "    <tr>\n",
       "      <th>20</th>\n",
       "      <td>2255.903564</td>\n",
       "    </tr>\n",
       "    <tr>\n",
       "      <th>21</th>\n",
       "      <td>2287.931641</td>\n",
       "    </tr>\n",
       "    <tr>\n",
       "      <th>22</th>\n",
       "      <td>2284.147217</td>\n",
       "    </tr>\n",
       "    <tr>\n",
       "      <th>23</th>\n",
       "      <td>2281.701416</td>\n",
       "    </tr>\n",
       "    <tr>\n",
       "      <th>24</th>\n",
       "      <td>2254.565186</td>\n",
       "    </tr>\n",
       "    <tr>\n",
       "      <th>25</th>\n",
       "      <td>2243.166016</td>\n",
       "    </tr>\n",
       "    <tr>\n",
       "      <th>26</th>\n",
       "      <td>2229.921143</td>\n",
       "    </tr>\n",
       "    <tr>\n",
       "      <th>27</th>\n",
       "      <td>2199.092773</td>\n",
       "    </tr>\n",
       "    <tr>\n",
       "      <th>28</th>\n",
       "      <td>2157.373291</td>\n",
       "    </tr>\n",
       "  </tbody>\n",
       "</table>\n",
       "</div>"
      ],
      "text/plain": [
       "          Close\n",
       "0   2399.153076\n",
       "1   2419.920654\n",
       "2   2385.492676\n",
       "3   2379.308594\n",
       "4   2309.529785\n",
       "5   2329.697266\n",
       "6   2348.757324\n",
       "7   2348.526611\n",
       "8   2347.465088\n",
       "9   2351.064697\n",
       "10  2377.554932\n",
       "11   2360.15625\n",
       "12   2324.62085\n",
       "13  2320.467285\n",
       "14  2341.557861\n",
       "15  2396.845459\n",
       "16  2361.402344\n",
       "17  2331.635742\n",
       "18  2281.285889\n",
       "19  2277.593994\n",
       "20  2255.903564\n",
       "21  2287.931641\n",
       "22  2284.147217\n",
       "23  2281.701416\n",
       "24  2254.565186\n",
       "25  2243.166016\n",
       "26  2229.921143\n",
       "27  2199.092773\n",
       "28  2157.373291"
      ]
     },
     "execution_count": 30,
     "metadata": {},
     "output_type": "execute_result"
    }
   ],
   "source": [
    "actual_stock_price_test_oriA"
   ]
  },
  {
   "cell_type": "code",
   "execution_count": 31,
   "id": "d8466402-dc21-4b83-9d41-f91ffb887b0f",
   "metadata": {},
   "outputs": [],
   "source": [
    "from stockFunctions import conversionSingle\n",
    "aTestNormTable=conversionSingle(y_test,[column])\n",
    "actual_stock_price_test_ori=Ms.inverse_transform(aTestNormTable)\n",
    "actual_stock_price_test_oriA=conversionSingle(actual_stock_price_test_ori,[column])"
   ]
  },
  {
   "cell_type": "code",
   "execution_count": 32,
   "id": "313a870b-9f7e-4f3d-bccc-c86c5b903933",
   "metadata": {},
   "outputs": [],
   "source": [
    "from stockFunctions import conversionSingle\n",
    "pTestNormTable=conversionSingle(y_pred,[column])\n",
    "predicted_stock_price_test_ori=Ms.inverse_transform(pTestNormTable)\n",
    "predicted_stock_price_test_oriP=conversionSingle(predicted_stock_price_test_ori,[column])"
   ]
  },
  {
   "cell_type": "code",
   "execution_count": 33,
   "id": "16123d05-d1cf-4b16-aa00-07d61056b81b",
   "metadata": {},
   "outputs": [
    {
     "data": {
      "image/png": "[encoded data removed]",
      "text/plain": [
       "<Figure size 1000x500 with 1 Axes>"
      ]
     },
     "metadata": {},
     "output_type": "display_data"
    }
   ],
   "source": [
    "from stockFunctions import graph\n",
    "graph(actual_stock_price_test_oriA,predicted_stock_price_test_oriP,\"Actual\",\"Predicted\",\"Reliance-Close-AR-Ori\",\"Days\",\"Prices\")"
   ]
  },
  {
   "cell_type": "code",
   "execution_count": 34,
   "id": "3ebaf9a4-5721-4909-9ec8-77d7af5735af",
   "metadata": {},
   "outputs": [],
   "source": [
    "forecast=model_fit.predict(len(data1), len(data1)+3)"
   ]
  },
  {
   "cell_type": "code",
   "execution_count": 35,
   "id": "f05c84b5-1246-435c-9d1f-29c950d7d23b",
   "metadata": {},
   "outputs": [
    {
     "data": {
      "text/plain": [
       "numpy.ndarray"
      ]
     },
     "execution_count": 35,
     "metadata": {},
     "output_type": "execute_result"
    }
   ],
   "source": [
    "type(forecast)"
   ]
  },
  {
   "cell_type": "code",
   "execution_count": 36,
   "id": "886cc954-5e29-4bff-b826-ced048b78731",
   "metadata": {},
   "outputs": [
    {
     "data": {
      "text/plain": [
       "array([0.44268993, 0.43859539, 0.43453872, 0.43051958])"
      ]
     },
     "execution_count": 36,
     "metadata": {},
     "output_type": "execute_result"
    }
   ],
   "source": [
    "forecast"
   ]
  },
  {
   "cell_type": "code",
   "execution_count": 37,
   "id": "b083bb23-310a-416f-ab20-35781e9d2bf0",
   "metadata": {},
   "outputs": [],
   "source": [
    "from stockFunctions import conversionSingle\n",
    "fTestNormTable=conversionSingle(forecast,[\"Closefore\"])\n",
    "forecast_stock_price_test_ori=Ms.inverse_transform(fTestNormTable)\n",
    "forecast_stock_price_test_oriF=conversionSingle(forecast_stock_price_test_ori,[\"Closefore\"])"
   ]
  },
  {
   "cell_type": "code",
   "execution_count": 38,
   "id": "a606cd10-b54d-4ae0-b8e9-a3998ef3c2c9",
   "metadata": {},
   "outputs": [
    {
     "data": {
      "text/html": [
       "<div>\n",
       "<style scoped>\n",
       "    .dataframe tbody tr th:only-of-type {\n",
       "        vertical-align: middle;\n",
       "    }\n",
       "\n",
       "    .dataframe tbody tr th {\n",
       "        vertical-align: top;\n",
       "    }\n",
       "\n",
       "    .dataframe thead th {\n",
       "        text-align: right;\n",
       "    }\n",
       "</style>\n",
       "<table border=\"1\" class=\"dataframe\">\n",
       "  <thead>\n",
       "    <tr style=\"text-align: right;\">\n",
       "      <th></th>\n",
       "      <th>Closefore</th>\n",
       "    </tr>\n",
       "  </thead>\n",
       "  <tbody>\n",
       "    <tr>\n",
       "      <th>0</th>\n",
       "      <td>2312.164294</td>\n",
       "    </tr>\n",
       "    <tr>\n",
       "      <th>1</th>\n",
       "      <td>2310.629727</td>\n",
       "    </tr>\n",
       "    <tr>\n",
       "      <th>2</th>\n",
       "      <td>2309.109353</td>\n",
       "    </tr>\n",
       "    <tr>\n",
       "      <th>3</th>\n",
       "      <td>2307.603041</td>\n",
       "    </tr>\n",
       "  </tbody>\n",
       "</table>\n",
       "</div>"
      ],
      "text/plain": [
       "     Closefore\n",
       "0  2312.164294\n",
       "1  2310.629727\n",
       "2  2309.109353\n",
       "3  2307.603041"
      ]
     },
     "execution_count": 38,
     "metadata": {},
     "output_type": "execute_result"
    }
   ],
   "source": [
    "forecast_stock_price_test_oriF"
   ]
  },
  {
   "cell_type": "code",
   "execution_count": 39,
   "id": "8f09895e-f61b-4205-bdff-200f3104b35b",
   "metadata": {},
   "outputs": [
    {
     "data": {
      "text/plain": [
       "pandas.core.frame.DataFrame"
      ]
     },
     "execution_count": 39,
     "metadata": {},
     "output_type": "execute_result"
    }
   ],
   "source": [
    "type(forecast_stock_price_test_oriF)"
   ]
  },
  {
   "cell_type": "code",
   "execution_count": 40,
   "id": "e5d5765f-074f-4bef-9ab2-f4df6ede5937",
   "metadata": {},
   "outputs": [],
   "source": [
    "forecast_stock_price_test_oriF.to_csv(\"CloseAR.csv\",index=False)"
   ]
  },
  {
   "cell_type": "code",
   "execution_count": 41,
   "id": "205dbdde-a15f-4796-a6c1-d934d4292d03",
   "metadata": {},
   "outputs": [
    {
     "data": {
      "text/plain": [
       "144"
      ]
     },
     "execution_count": 41,
     "metadata": {},
     "output_type": "execute_result"
    }
   ],
   "source": [
    "len(data1)"
   ]
  },
  {
   "cell_type": "code",
   "execution_count": 42,
   "id": "39193708-0e28-4cf5-8eab-493d244a0bb6",
   "metadata": {},
   "outputs": [
    {
     "data": {
      "text/plain": [
       "[<matplotlib.lines.Line2D at 0x19b15ac9610>]"
      ]
     },
     "execution_count": 42,
     "metadata": {},
     "output_type": "execute_result"
    },
    {
     "data": {
      "image/png": "[encoded data removed]",
      "text/plain": [
       "<Figure size 1000x500 with 1 Axes>"
      ]
     },
     "metadata": {},
     "output_type": "display_data"
    }
   ],
   "source": [
    "import matplotlib.pyplot as plt\n",
    "plt.figure(figsize=(10,5))\n",
    "plt.plot(actual_stock_price_test_oriA[115:144], color = 'blue', label=\"Actual\")\n",
    "plt.plot(forecast_stock_price_test_oriF, color = 'red', label =\"Predicted\")"
   ]
  },
  {
   "cell_type": "code",
   "execution_count": null,
   "id": "7e34d691-8113-4cdd-bc23-beb17fcf0ad0",
   "metadata": {},
   "outputs": [],
   "source": []
  },
  {
   "cell_type": "code",
   "execution_count": null,
   "id": "14020fed-556f-4c5f-9ae4-3c2dd4ae54c5",
   "metadata": {},
   "outputs": [],
   "source": []
  },
  {
   "cell_type": "code",
   "execution_count": null,
   "id": "bb6f2de6-0217-4fae-aeaa-cc868825091e",
   "metadata": {},
   "outputs": [],
   "source": []
  }
 ],
 "metadata": {
  "kernelspec": {
   "display_name": "Python 3 (ipykernel)",
   "language": "python",
   "name": "python3"
  },
  "language_info": {
   "codemirror_mode": {
    "name": "ipython",
    "version": 3
   },
   "file_extension": ".py",
   "mimetype": "text/x-python",
   "name": "python",
   "nbconvert_exporter": "python",
   "pygments_lexer": "ipython3",
   "version": "3.11.9"
  }
 },
 "nbformat": 4,
 "nbformat_minor": 5
}
